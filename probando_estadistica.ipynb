{
  "nbformat": 4,
  "nbformat_minor": 0,
  "metadata": {
    "colab": {
      "name": "probando_estadistica.ipynb",
      "version": "0.3.2",
      "provenance": [],
      "include_colab_link": true
    },
    "kernelspec": {
      "name": "python3",
      "display_name": "Python 3"
    }
  },
  "cells": [
    {
      "cell_type": "markdown",
      "metadata": {
        "id": "view-in-github",
        "colab_type": "text"
      },
      "source": [
        "<a href=\"https://colab.research.google.com/github/crdguez/mis_notebooks/blob/master/probando_estadistica.ipynb\" target=\"_parent\"><img src=\"https://colab.research.google.com/assets/colab-badge.svg\" alt=\"Open In Colab\"/></a>"
      ]
    },
    {
      "metadata": {
        "id": "mV1QksHEH8Pb",
        "colab_type": "code",
        "outputId": "91b03499-a32b-4849-b6c3-1c545182bb4d",
        "colab": {
          "base_uri": "https://localhost:8080/",
          "height": 421
        }
      },
      "cell_type": "code",
      "source": [
        "!pip install sympy==1.3\n",
        "!pip install antlr4-python3-runtime"
      ],
      "execution_count": 0,
      "outputs": [
        {
          "output_type": "stream",
          "text": [
            "Collecting sympy==1.3\n",
            "\u001b[?25l  Downloading https://files.pythonhosted.org/packages/dd/f6/ed485ff22efdd7b371d0dbbf6d77ad61c3b3b7e0815a83c89cbb38ce35de/sympy-1.3.tar.gz (5.9MB)\n",
            "\u001b[K    100% |████████████████████████████████| 5.9MB 5.1MB/s \n",
            "\u001b[?25hRequirement already satisfied: mpmath>=0.19 in /usr/local/lib/python3.6/dist-packages (from sympy==1.3) (1.0.0)\n",
            "Building wheels for collected packages: sympy\n",
            "  Running setup.py bdist_wheel for sympy ... \u001b[?25l-\b \b\\\b \b|\b \b/\b \b-\b \b\\\b \b|\b \b/\b \b-\b \b\\\b \b|\b \b/\b \b-\b \b\\\b \b|\b \b/\b \b-\b \b\\\b \b|\b \bdone\n",
            "\u001b[?25h  Stored in directory: /root/.cache/pip/wheels/6c/59/86/478e3c0f298368c119095cc5985dedac57c0e35a85c737f823\n",
            "Successfully built sympy\n",
            "Installing collected packages: sympy\n",
            "  Found existing installation: sympy 1.1.1\n",
            "    Uninstalling sympy-1.1.1:\n",
            "      Successfully uninstalled sympy-1.1.1\n",
            "Successfully installed sympy-1.3\n",
            "Collecting antlr4-python3-runtime\n",
            "\u001b[?25l  Downloading https://files.pythonhosted.org/packages/3e/96/aba01b2948ec67f237cd387c022820835ae0d8db5cab4bd404b351660b5e/antlr4-python3-runtime-4.7.1.tar.gz (111kB)\n",
            "\u001b[K    100% |████████████████████████████████| 112kB 2.7MB/s \n",
            "\u001b[?25hBuilding wheels for collected packages: antlr4-python3-runtime\n",
            "  Running setup.py bdist_wheel for antlr4-python3-runtime ... \u001b[?25l-\b \b\\\b \bdone\n",
            "\u001b[?25h  Stored in directory: /root/.cache/pip/wheels/ef/f6/18/ad300e691236a3408a99edc750484b56e8d6b11b2c38eacb10\n",
            "Successfully built antlr4-python3-runtime\n",
            "Installing collected packages: antlr4-python3-runtime\n",
            "Successfully installed antlr4-python3-runtime-4.7.1\n"
          ],
          "name": "stdout"
        }
      ]
    },
    {
      "metadata": {
        "id": "WcqXlHnRHwqv",
        "colab_type": "code",
        "colab": {}
      },
      "cell_type": "code",
      "source": [
        "from sympy import *\n",
        "from sympy import plot_implicit, cos, sin, symbols, Eq, And\n",
        "import numpy as np\n",
        "#from sympy.parsing.latex import parse_latex\n",
        "\n",
        "x, y, z = symbols('x y z', )"
      ],
      "execution_count": 0,
      "outputs": []
    },
    {
      "metadata": {
        "id": "aZGXnBTtsmHT",
        "colab_type": "code",
        "colab": {}
      },
      "cell_type": "code",
      "source": [
        "from io import StringIO"
      ],
      "execution_count": 0,
      "outputs": []
    },
    {
      "metadata": {
        "id": "0PoFvTNSsoAo",
        "colab_type": "code",
        "outputId": "0d65ed81-9b0d-4272-d171-954cf7f9dd74",
        "colab": {
          "base_uri": "https://localhost:8080/",
          "height": 73
        }
      },
      "cell_type": "code",
      "source": [
        "str = r\"\"\"174               157        168        166        169        168        173        184        176        171        172        168        167        162       162\n",
        "163               166        166        167        167        174        159        170        172        173        164        161        163        176       177 \"\"\"\n",
        "str.splitlines()\n",
        "\n",
        "#c = StringIO(u\"9                    6             5             0             1             5             7             9             10          7             5    1             2             5       7  6         3             4             6             8             8             6             4             4         6             5             3             5             7       7 8                    7             2             2\")"
      ],
      "execution_count": 3,
      "outputs": [
        {
          "output_type": "execute_result",
          "data": {
            "text/plain": [
              "['174               157        168        166        169        168        173        184        176        171        172        168        167        162       162',\n",
              " '163               166        166        167        167        174        159        170        172        173        164        161        163        176       177 ']"
            ]
          },
          "metadata": {
            "tags": []
          },
          "execution_count": 3
        }
      ]
    },
    {
      "metadata": {
        "id": "STIQzouCs1Mt",
        "colab_type": "code",
        "colab": {
          "base_uri": "https://localhost:8080/",
          "height": 89
        },
        "outputId": "2c44061a-2862-4548-840e-7a77897779cb"
      },
      "cell_type": "code",
      "source": [
        "\n",
        "datos = np.loadtxt(str.splitlines())\n",
        "datos"
      ],
      "execution_count": 15,
      "outputs": [
        {
          "output_type": "execute_result",
          "data": {
            "text/plain": [
              "array([[174., 157., 168., 166., 169., 168., 173., 184., 176., 171., 172.,\n",
              "        168., 167., 162., 162.],\n",
              "       [163., 166., 166., 167., 167., 174., 159., 170., 172., 173., 164.,\n",
              "        161., 163., 176., 177.]])"
            ]
          },
          "metadata": {
            "tags": []
          },
          "execution_count": 15
        }
      ]
    },
    {
      "metadata": {
        "id": "ny45TWIyucbj",
        "colab_type": "code",
        "outputId": "95c6fad5-efa2-425e-d71c-d19ab7bd6bdc",
        "colab": {
          "base_uri": "https://localhost:8080/",
          "height": 71
        }
      },
      "cell_type": "code",
      "source": [
        "np.histogram(datos[0][:8])"
      ],
      "execution_count": 13,
      "outputs": [
        {
          "output_type": "execute_result",
          "data": {
            "text/plain": [
              "(array([1, 0, 0, 1, 3, 1, 1, 0, 0, 1]),\n",
              " array([157. , 159.7, 162.4, 165.1, 167.8, 170.5, 173.2, 175.9, 178.6,\n",
              "        181.3, 184. ]))"
            ]
          },
          "metadata": {
            "tags": []
          },
          "execution_count": 13
        }
      ]
    },
    {
      "metadata": {
        "id": "vbFnNHf73HFK",
        "colab_type": "code",
        "colab": {
          "base_uri": "https://localhost:8080/",
          "height": 265
        },
        "outputId": "09c8faf9-e045-4ba4-fe3e-81c46daccb8d"
      },
      "cell_type": "code",
      "source": [
        "import matplotlib.pyplot as plt\n",
        " \n",
        "%matplotlib inline\n",
        "\n",
        "plot = plt.hist(datos[0][:8], bins='auto')"
      ],
      "execution_count": 17,
      "outputs": [
        {
          "output_type": "display_data",
          "data": {
            "image/png": "[encoded data removed]",
            "text/plain": [
              "<matplotlib.figure.Figure at 0x7f0229bae908>"
            ]
          },
          "metadata": {
            "tags": []
          }
        }
      ]
    }
  ]
}