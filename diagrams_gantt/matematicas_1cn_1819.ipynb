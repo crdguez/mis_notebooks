{
  "nbformat": 4,
  "nbformat_minor": 0,
  "metadata": {
    "colab": {
      "name": "matematicas_1cn_1819.ipynb",
      "version": "0.3.2",
      "provenance": [],
      "include_colab_link": true
    },
    "kernelspec": {
      "display_name": "Python 3",
      "language": "python",
      "name": "python3"
    }
  },
  "cells": [
    {
      "cell_type": "markdown",
      "metadata": {
        "id": "view-in-github",
        "colab_type": "text"
      },
      "source": [
        "[View in Colaboratory](https://colab.research.google.com/github/crdguez/mis_notebooks/blob/master/diagrams_gantt/matematicas_1cn_1819.ipynb)"
      ]
    },
    {
      "metadata": {
        "id": "eDypDNPXIzRL",
        "colab_type": "text"
      },
      "cell_type": "markdown",
      "source": [
        "# Programación de 1º de Bachillerato CCSS"
      ]
    },
    {
      "metadata": {
        "id": "phNz2LL1ImLI",
        "colab_type": "code",
        "colab": {},
        "outputId": "671c52eb-6b20-415e-bc91-9c2e395286f4"
      },
      "cell_type": "code",
      "source": [
        "#Solo hay que ejecutarlo una vez, te instala la librería gantt\n",
        "!pip install https://files.pythonhosted.org/packages/20/03/61d9950a0b83386b668a300370e40a81b5c919afdc9b7c41d20bb9021215/python-gantt-0.6.0.tar.gz"
      ],
      "execution_count": 0,
      "outputs": [
        {
          "output_type": "stream",
          "text": [
            "Collecting https://files.pythonhosted.org/packages/20/03/61d9950a0b83386b668a300370e40a81b5c919afdc9b7c41d20bb9021215/python-gantt-0.6.0.tar.gz\n",
            "\u001b[?25l  Downloading https://files.pythonhosted.org/packages/20/03/61d9950a0b83386b668a300370e40a81b5c919afdc9b7c41d20bb9021215/python-gantt-0.6.0.tar.gz (53kB)\n",
            "\u001b[K    100% |████████████████████████████████| 61kB 149kB/s ta 0:00:01\n",
            "\u001b[?25hRequirement already satisfied (use --upgrade to upgrade): python-gantt==0.6.0 from https://files.pythonhosted.org/packages/20/03/61d9950a0b83386b668a300370e40a81b5c919afdc9b7c41d20bb9021215/python-gantt-0.6.0.tar.gz in /home/hp/Mis_aplicaciones/anaconda3/lib/python3.6/site-packages\n",
            "Requirement already satisfied: svgwrite>=1.1.6 in /home/hp/Mis_aplicaciones/anaconda3/lib/python3.6/site-packages (from python-gantt==0.6.0) (1.1.12)\n",
            "Requirement already satisfied: clize>=2.0 in /home/hp/Mis_aplicaciones/anaconda3/lib/python3.6/site-packages (from python-gantt==0.6.0) (4.0.3)\n",
            "Requirement already satisfied: python-dateutil>=2.4 in /home/hp/Mis_aplicaciones/anaconda3/lib/python3.6/site-packages (from python-gantt==0.6.0) (2.7.3)\n",
            "Requirement already satisfied: pyparsing>=2.0.1 in /home/hp/Mis_aplicaciones/anaconda3/lib/python3.6/site-packages (from svgwrite>=1.1.6->python-gantt==0.6.0) (2.2.0)\n",
            "Requirement already satisfied: od in /home/hp/Mis_aplicaciones/anaconda3/lib/python3.6/site-packages (from clize>=2.0->python-gantt==0.6.0) (1.0)\n",
            "Requirement already satisfied: docutils in /home/hp/Mis_aplicaciones/anaconda3/lib/python3.6/site-packages (from clize>=2.0->python-gantt==0.6.0) (0.14)\n",
            "Requirement already satisfied: six in /home/hp/Mis_aplicaciones/anaconda3/lib/python3.6/site-packages (from clize>=2.0->python-gantt==0.6.0) (1.11.0)\n",
            "Requirement already satisfied: attrs>=17.4.0 in /home/hp/Mis_aplicaciones/anaconda3/lib/python3.6/site-packages (from clize>=2.0->python-gantt==0.6.0) (18.1.0)\n",
            "Requirement already satisfied: sigtools>=2.0 in /home/hp/Mis_aplicaciones/anaconda3/lib/python3.6/site-packages (from clize>=2.0->python-gantt==0.6.0) (2.0.1)\n",
            "Building wheels for collected packages: python-gantt\n",
            "  Running setup.py bdist_wheel for python-gantt ... \u001b[?25ldone\n",
            "\u001b[?25h  Stored in directory: /home/hp/.cache/pip/wheels/51/aa/02/672bca6debc072c12d8ee12ccd8bfb1cfa2af09ec8151121b9\n",
            "Successfully built python-gantt\n"
          ],
          "name": "stdout"
        }
      ]
    },
    {
      "metadata": {
        "id": "zX0DWho9ImLy",
        "colab_type": "code",
        "colab": {},
        "outputId": "6def43fd-a7a0-4f65-b201-4d54323f844d"
      },
      "cell_type": "code",
      "source": [
        "import pandas\n",
        "pandas.__version__\n"
      ],
      "execution_count": 0,
      "outputs": [
        {
          "output_type": "execute_result",
          "data": {
            "text/plain": [
              "'0.23.3'"
            ]
          },
          "metadata": {
            "tags": []
          },
          "execution_count": 1
        }
      ]
    },
    {
      "metadata": {
        "id": "ZhTiUQwnImMI",
        "colab_type": "code",
        "colab": {
          "base_uri": "https://localhost:8080/",
          "height": 732
        },
        "outputId": "0b830c72-55f6-4ef8-e177-48aa41df8623"
      },
      "cell_type": "code",
      "source": [
        "import pandas as pd\n",
        "import datetime\n",
        "from datetime import timedelta, date\n",
        "import gantt\n",
        "\n",
        "# https://www.enmimaquinafunciona.com/pregunta/42290/convertir-de-svg-a-pdf-en-varias-hojas\n",
        "# El siguiente comando divide el svg en 2x4 celdas:\n",
        "# convert prueba.svg -crop 25%x50% +repage pruebasplit.pdf \n",
        "\n",
        "\n",
        "# prog = pd.read_csv('prog_1bac_cn.csv')\n",
        "\n",
        "# Hay que modificar el documento para que cualquiera con el enlace lo pueda ver\n",
        "\n",
        "#sheet_url = 'https://docs.google.com/spreadsheets/d/12TL9nMPoz0cOf2OzeHv8AWwT-3sfWWeeTttO-KSYsNI/edit#gid=0'\n",
        "sheet_url = 'https://docs.google.com/spreadsheets/d/15kpQ0uAfdrcyM2RFn9Rr3ZxDzgFJJjXMy2o7oED_Cl4/edit#gid=0'\n",
        "#sheet_url = 'https://docs.google.com/spreadsheets/d/1QGOnfK9wv-CaymZh0buFUeeSL41BxacDxB2A6MbNSR8/edit#gid=0'\n",
        "\n",
        "csv_export_url = sheet_url.replace('/edit#gid=', '/export?format=csv&gid=')\n",
        "print(csv_export_url)\n",
        "prog = pd.read_csv(csv_export_url, error_bad_lines=False)\n",
        "\n",
        "#Encabezados\n",
        "\n",
        "c1, c2, c3 = prog.columns[0], prog.columns[1], prog.columns[2]\n",
        "\n",
        "# nombre_proyecto = 'Matemáticas 1º Bachillerato'\n",
        "nombre_proyecto = 'Matemáticas 1º Bachillerato CCSS'\n",
        "\n",
        "gantt.define_font_attributes(fill='black', stroke='black', stroke_width=0.001,  font_family=\"Arial Bold\")\n",
        "\n",
        "#gantt\n",
        "hoy = datetime.date.today()\n",
        "inicio = datetime.date(2018, 9, 13)\n",
        "detalle = False\n",
        "\n",
        "# Fiestas Pilar\n",
        "inicio_vacas = date(2018, 10, 11) + timedelta(days=0)  # start date\n",
        "vacaciones = 2  # end date\n",
        "for i in range(vacaciones):\n",
        "    gantt.add_vacations(inicio_vacas + timedelta(days=i + 1))\n",
        "\n",
        "# Puentes\n",
        "inicio_vacas = date(2018, 11, 1) + timedelta(days=0)  # start date\n",
        "vacaciones = 2  # end date\n",
        "for i in range(vacaciones):\n",
        "    gantt.add_vacations(inicio_vacas + timedelta(days=i + 1))\n",
        "\n",
        "inicio_vacas = date(2018, 12, 6) + timedelta(days=0)  # start date\n",
        "vacaciones = 2  # end date\n",
        "for i in range(vacaciones):\n",
        "    gantt.add_vacations(inicio_vacas + timedelta(days=i + 1))\n",
        "\n",
        "# Navidad\n",
        "inicio_vacas = date(2018, 12, 22) + timedelta(days=0)  # start date\n",
        "vacaciones = 17  # end date\n",
        "for i in range(vacaciones):\n",
        "    gantt.add_vacations(inicio_vacas + timedelta(days=i + 1))\n",
        "    \n",
        "# Semana Santa\n",
        "inicio_vacas = date(2019, 4, 15) + timedelta(days=0)  # start date\n",
        "vacaciones = 9  # end date\n",
        "for i in range(vacaciones):\n",
        "    gantt.add_vacations(inicio_vacas + timedelta(days=i + 1))\n",
        "    \n",
        "# Dia de la semana no lectivo\n",
        "\n",
        "primer_dia = date(2018, 9, 14) + timedelta(days=0)  # start date\n",
        "semanas = 38\n",
        "for i in range(semanas):\n",
        "    gantt.add_vacations(primer_dia + timedelta(days=i * 7))\n",
        "\n",
        "# Creación del proyecto y la tarea presentación\n",
        "\n",
        "p  = gantt.Project(name = nombre_proyecto, color='#FFFF40')\n",
        "\n",
        "if not(detalle):\n",
        "    t2_anterior = gantt.Task(name='Presentación',start = inicio, duration=1, color=\"#FF8080\")\n",
        "    p.add_task(t2_anterior)\n",
        "else:\n",
        "    t2_anterior = gantt.Project(name='Presentación', color='#FFFF40')\n",
        "    t3_anterior = gantt.Task(name='Presentación',start = inicio, duration=1, color=\"#FF8080\")\n",
        "    p.add_task(t3_anterior)\n",
        "\n",
        "\n",
        "\n",
        "    \n",
        "for n1 in prog.groupby(c1, sort = False).count().index: \n",
        "    #print('\\n\\n','BLOQUE TEMÁTICO:', n1)\n",
        "    t1  = gantt.Project(name = n1, color='#FFFF40')\n",
        "    for n2 in prog[prog[c1] == n1].groupby(c2, sort = False).count().index: \n",
        "    #   print('\\n\\n','Unidad:', n2, '\\n')\n",
        "        if not(detalle) :\n",
        "            t2_actual = gantt.Task(name=n2,depends_of=t2_anterior, duration= prog[prog[c2] == n2].sum()['Duracion'], color=\"#FF8080\", display=not(detalle))\n",
        "            t1.add_task(t2_actual)\n",
        "            t2_anterior = t2_actual\n",
        "        else :\n",
        "            t2  = gantt.Project(name = n2, color='#FFFF40')\n",
        "            for n3 in prog[prog[c2] == n2].groupby(c3, sort = False).count().index: \n",
        "     #          print(n3, prog[prog[c3] == n3].sum()['Duracion'], end='/ ')\n",
        "                t3_actual = gantt.Task(name=n3,depends_of=t3_anterior, duration= prog[prog[c3] == n3].sum()['Duracion'], color=\"#FF8080\", display=detalle)\n",
        "                t2.add_task(t3_actual)\n",
        "                t3_anterior = t3_actual\n",
        "            t1.add_task(t2)\n",
        "    p.add_task(t1)  \n",
        "    \n",
        "# Fichero de salida    \n",
        "    \n",
        "if not(detalle) :    \n",
        "    p.make_svg_for_tasks(filename='prueba.svg', scale=gantt.DRAW_WITH_WEEKLY_SCALE, title_align_on_left=False)\n",
        "else :\n",
        "    p.make_svg_for_tasks(filename='prueba.svg', scale=gantt.DRAW_WITH_DAILY_SCALE, title_align_on_left=False)\n",
        "\n",
        "\n",
        "# Muestra en consola\n",
        "\n",
        "from IPython.core.display import SVG\n",
        "SVG(filename='prueba.svg')\n",
        "            \n",
        "            \n"
      ],
      "execution_count": 6,
      "outputs": [
        {
          "output_type": "stream",
          "text": [
            "https://docs.google.com/spreadsheets/d/15kpQ0uAfdrcyM2RFn9Rr3ZxDzgFJJjXMy2o7oED_Cl4/export?format=csv&gid=0\n"
          ],
          "name": "stdout"
        },
        {
          "output_type": "execute_result",
          "data": {
            "text/plain": [
              "<IPython.core.display.SVG object>"
            ],
            "image/svg+xml": "<svg baseProfile=\"full\" height=\"673.22833\" version=\"1.1\" width=\"1452.75587\" xmlns=\"http://www.w3.org/2000/svg\" xmlns:ev=\"http://www.w3.org/2001/xml-events\" xmlns:xlink=\"http://www.w3.org/1999/xlink\"><defs/><rect fill=\"white\" height=\"673.22833\" opacity=\"1\" stroke-width=\"0\" width=\"1452.75587\" x=\"0.0\" y=\"0.0\"/><g><g id=\"vlines\" stroke=\"lightgray\"><line x1=\"0.0\" x2=\"0.0\" y1=\"70.86614\" y2=\"637.79526\"/><text fill=\"black\" font-family=\"Arial Bold\" font-size=\"16\" font-weight=\"bold\" stroke=\"black\" stroke-width=\"0\" x=\"3.543307\" y=\"53.149605\">37</text><line x1=\"35.43307\" x2=\"35.43307\" y1=\"70.86614\" y2=\"637.79526\"/><text fill=\"black\" font-family=\"Arial Bold\" font-size=\"16\" font-weight=\"bold\" stroke=\"black\" stroke-width=\"0\" x=\"38.976377\" y=\"53.149605\">38</text><line x1=\"70.86614\" x2=\"70.86614\" y1=\"70.86614\" y2=\"637.79526\"/><text fill=\"black\" font-family=\"Arial Bold\" font-size=\"16\" font-weight=\"bold\" stroke=\"black\" stroke-width=\"0\" x=\"74.409447\" y=\"53.149605\">39</text><line x1=\"106.29921\" x2=\"106.29921\" y1=\"70.86614\" y2=\"637.79526\"/><text fill=\"#800000\" font-family=\"Arial Bold\" font-size=\"18\" font-weight=\"bold\" stroke=\"#800000\" stroke-width=\"0\" x=\"109.842517\" y=\"35.43307\">October</text><text fill=\"black\" font-family=\"Arial Bold\" font-size=\"16\" font-weight=\"bold\" stroke=\"black\" stroke-width=\"0\" x=\"109.842517\" y=\"53.149605\">40</text><line x1=\"141.73228\" x2=\"141.73228\" y1=\"70.86614\" y2=\"637.79526\"/><text fill=\"black\" font-family=\"Arial Bold\" font-size=\"16\" font-weight=\"bold\" stroke=\"black\" stroke-width=\"0\" x=\"145.275587\" y=\"53.149605\">41</text><line x1=\"177.16535\" x2=\"177.16535\" y1=\"70.86614\" y2=\"637.79526\"/><text fill=\"black\" font-family=\"Arial Bold\" font-size=\"16\" font-weight=\"bold\" stroke=\"black\" stroke-width=\"0\" x=\"180.708657\" y=\"53.149605\">42</text><line x1=\"212.59842\" x2=\"212.59842\" y1=\"70.86614\" y2=\"637.79526\"/><text fill=\"black\" font-family=\"Arial Bold\" font-size=\"16\" font-weight=\"bold\" stroke=\"black\" stroke-width=\"0\" x=\"216.141727\" y=\"53.149605\">43</text><line x1=\"248.03149000000002\" x2=\"248.03149000000002\" y1=\"70.86614\" y2=\"637.79526\"/><text fill=\"#800000\" font-family=\"Arial Bold\" font-size=\"18\" font-weight=\"bold\" stroke=\"#800000\" stroke-width=\"0\" x=\"251.574797\" y=\"35.43307\">November</text><text fill=\"black\" font-family=\"Arial Bold\" font-size=\"16\" font-weight=\"bold\" stroke=\"black\" stroke-width=\"0\" x=\"251.574797\" y=\"53.149605\">44</text><line x1=\"283.46456\" x2=\"283.46456\" y1=\"70.86614\" y2=\"637.79526\"/><text fill=\"black\" font-family=\"Arial Bold\" font-size=\"16\" font-weight=\"bold\" stroke=\"black\" stroke-width=\"0\" x=\"287.007867\" y=\"53.149605\">45</text><line x1=\"318.89763\" x2=\"318.89763\" y1=\"70.86614\" y2=\"637.79526\"/><text fill=\"black\" font-family=\"Arial Bold\" font-size=\"16\" font-weight=\"bold\" stroke=\"black\" stroke-width=\"0\" x=\"322.440937\" y=\"53.149605\">46</text><line x1=\"354.3307\" x2=\"354.3307\" y1=\"70.86614\" y2=\"637.79526\"/><text fill=\"black\" font-family=\"Arial Bold\" font-size=\"16\" font-weight=\"bold\" stroke=\"black\" stroke-width=\"0\" x=\"357.874007\" y=\"53.149605\">47</text><line x1=\"389.76377\" x2=\"389.76377\" y1=\"70.86614\" y2=\"637.79526\"/><text fill=\"black\" font-family=\"Arial Bold\" font-size=\"16\" font-weight=\"bold\" stroke=\"black\" stroke-width=\"0\" x=\"393.307077\" y=\"53.149605\">48</text><line x1=\"425.19684\" x2=\"425.19684\" y1=\"70.86614\" y2=\"637.79526\"/><text fill=\"#800000\" font-family=\"Arial Bold\" font-size=\"18\" font-weight=\"bold\" stroke=\"#800000\" stroke-width=\"0\" x=\"428.740147\" y=\"35.43307\">December</text><text fill=\"black\" font-family=\"Arial Bold\" font-size=\"16\" font-weight=\"bold\" stroke=\"black\" stroke-width=\"0\" x=\"428.740147\" y=\"53.149605\">49</text><line x1=\"460.62991\" x2=\"460.62991\" y1=\"70.86614\" y2=\"637.79526\"/><text fill=\"black\" font-family=\"Arial Bold\" font-size=\"16\" font-weight=\"bold\" stroke=\"black\" stroke-width=\"0\" x=\"464.173217\" y=\"53.149605\">50</text><line x1=\"496.06298000000004\" x2=\"496.06298000000004\" y1=\"70.86614\" y2=\"637.79526\"/><text fill=\"black\" font-family=\"Arial Bold\" font-size=\"16\" font-weight=\"bold\" stroke=\"black\" stroke-width=\"0\" x=\"499.606287\" y=\"53.149605\">51</text><line x1=\"531.49605\" x2=\"531.49605\" y1=\"70.86614\" y2=\"637.79526\"/><text fill=\"black\" font-family=\"Arial Bold\" font-size=\"16\" font-weight=\"bold\" stroke=\"black\" stroke-width=\"0\" x=\"535.039357\" y=\"53.149605\">52</text><line x1=\"566.92912\" x2=\"566.92912\" y1=\"70.86614\" y2=\"637.79526\"/><text fill=\"#400000\" font-family=\"Arial Bold\" font-size=\"20\" font-weight=\"bold\" stroke=\"#400000\" stroke-width=\"0\" x=\"570.472427\" y=\"17.716535\">2019</text><text fill=\"#800000\" font-family=\"Arial Bold\" font-size=\"18\" font-weight=\"bold\" stroke=\"#800000\" stroke-width=\"0\" x=\"570.472427\" y=\"35.43307\">January</text><text fill=\"black\" font-family=\"Arial Bold\" font-size=\"16\" font-weight=\"bold\" stroke=\"black\" stroke-width=\"0\" x=\"570.472427\" y=\"53.149605\">01</text><line x1=\"602.36219\" x2=\"602.36219\" y1=\"70.86614\" y2=\"637.79526\"/><text fill=\"black\" font-family=\"Arial Bold\" font-size=\"16\" font-weight=\"bold\" stroke=\"black\" stroke-width=\"0\" x=\"605.905497\" y=\"53.149605\">02</text><line x1=\"637.79526\" x2=\"637.79526\" y1=\"70.86614\" y2=\"637.79526\"/><text fill=\"black\" font-family=\"Arial Bold\" font-size=\"16\" font-weight=\"bold\" stroke=\"black\" stroke-width=\"0\" x=\"641.338567\" y=\"53.149605\">03</text><line x1=\"673.22833\" x2=\"673.22833\" y1=\"70.86614\" y2=\"637.79526\"/><text fill=\"black\" font-family=\"Arial Bold\" font-size=\"16\" font-weight=\"bold\" stroke=\"black\" stroke-width=\"0\" x=\"676.7716369999999\" y=\"53.149605\">04</text><line x1=\"708.6614\" x2=\"708.6614\" y1=\"70.86614\" y2=\"637.79526\"/><text fill=\"black\" font-family=\"Arial Bold\" font-size=\"16\" font-weight=\"bold\" stroke=\"black\" stroke-width=\"0\" x=\"712.204707\" y=\"53.149605\">05</text><line x1=\"744.09447\" x2=\"744.09447\" y1=\"70.86614\" y2=\"637.79526\"/><text fill=\"#800000\" font-family=\"Arial Bold\" font-size=\"18\" font-weight=\"bold\" stroke=\"#800000\" stroke-width=\"0\" x=\"747.637777\" y=\"35.43307\">February</text><text fill=\"black\" font-family=\"Arial Bold\" font-size=\"16\" font-weight=\"bold\" stroke=\"black\" stroke-width=\"0\" x=\"747.637777\" y=\"53.149605\">06</text><line x1=\"779.52754\" x2=\"779.52754\" y1=\"70.86614\" y2=\"637.79526\"/><text fill=\"black\" font-family=\"Arial Bold\" font-size=\"16\" font-weight=\"bold\" stroke=\"black\" stroke-width=\"0\" x=\"783.070847\" y=\"53.149605\">07</text><line x1=\"814.96061\" x2=\"814.96061\" y1=\"70.86614\" y2=\"637.79526\"/><text fill=\"black\" font-family=\"Arial Bold\" font-size=\"16\" font-weight=\"bold\" stroke=\"black\" stroke-width=\"0\" x=\"818.503917\" y=\"53.149605\">08</text><line x1=\"850.39368\" x2=\"850.39368\" y1=\"70.86614\" y2=\"637.79526\"/><text fill=\"black\" font-family=\"Arial Bold\" font-size=\"16\" font-weight=\"bold\" stroke=\"black\" stroke-width=\"0\" x=\"853.936987\" y=\"53.149605\">09</text><line x1=\"885.8267500000001\" x2=\"885.8267500000001\" y1=\"70.86614\" y2=\"637.79526\"/><text fill=\"#800000\" font-family=\"Arial Bold\" font-size=\"18\" font-weight=\"bold\" stroke=\"#800000\" stroke-width=\"0\" x=\"889.370057\" y=\"35.43307\">March</text><text fill=\"black\" font-family=\"Arial Bold\" font-size=\"16\" font-weight=\"bold\" stroke=\"black\" stroke-width=\"0\" x=\"889.370057\" y=\"53.149605\">10</text><line x1=\"921.25982\" x2=\"921.25982\" y1=\"70.86614\" y2=\"637.79526\"/><text fill=\"black\" font-family=\"Arial Bold\" font-size=\"16\" font-weight=\"bold\" stroke=\"black\" stroke-width=\"0\" x=\"924.803127\" y=\"53.149605\">11</text><line x1=\"956.69289\" x2=\"956.69289\" y1=\"70.86614\" y2=\"637.79526\"/><text fill=\"black\" font-family=\"Arial Bold\" font-size=\"16\" font-weight=\"bold\" stroke=\"black\" stroke-width=\"0\" x=\"960.236197\" y=\"53.149605\">12</text><line x1=\"992.1259600000001\" x2=\"992.1259600000001\" y1=\"70.86614\" y2=\"637.79526\"/><text fill=\"black\" font-family=\"Arial Bold\" font-size=\"16\" font-weight=\"bold\" stroke=\"black\" stroke-width=\"0\" x=\"995.669267\" y=\"53.149605\">13</text><line x1=\"1027.5590300000001\" x2=\"1027.5590300000001\" y1=\"70.86614\" y2=\"637.79526\"/><text fill=\"#800000\" font-family=\"Arial Bold\" font-size=\"18\" font-weight=\"bold\" stroke=\"#800000\" stroke-width=\"0\" x=\"1031.102337\" y=\"35.43307\">April</text><text fill=\"black\" font-family=\"Arial Bold\" font-size=\"16\" font-weight=\"bold\" stroke=\"black\" stroke-width=\"0\" x=\"1031.102337\" y=\"53.149605\">14</text><line x1=\"1062.9921\" x2=\"1062.9921\" y1=\"70.86614\" y2=\"637.79526\"/><text fill=\"black\" font-family=\"Arial Bold\" font-size=\"16\" font-weight=\"bold\" stroke=\"black\" stroke-width=\"0\" x=\"1066.535407\" y=\"53.149605\">15</text><line x1=\"1098.42517\" x2=\"1098.42517\" y1=\"70.86614\" y2=\"637.79526\"/><text fill=\"black\" font-family=\"Arial Bold\" font-size=\"16\" font-weight=\"bold\" stroke=\"black\" stroke-width=\"0\" x=\"1101.968477\" y=\"53.149605\">16</text><line x1=\"1133.85824\" x2=\"1133.85824\" y1=\"70.86614\" y2=\"637.79526\"/><text fill=\"black\" font-family=\"Arial Bold\" font-size=\"16\" font-weight=\"bold\" stroke=\"black\" stroke-width=\"0\" x=\"1137.401547\" y=\"53.149605\">17</text><line x1=\"1169.29131\" x2=\"1169.29131\" y1=\"70.86614\" y2=\"637.79526\"/><text fill=\"#800000\" font-family=\"Arial Bold\" font-size=\"18\" font-weight=\"bold\" stroke=\"#800000\" stroke-width=\"0\" x=\"1172.834617\" y=\"35.43307\">May</text><text fill=\"black\" font-family=\"Arial Bold\" font-size=\"16\" font-weight=\"bold\" stroke=\"black\" stroke-width=\"0\" x=\"1172.834617\" y=\"53.149605\">18</text><line x1=\"1204.72438\" x2=\"1204.72438\" y1=\"70.86614\" y2=\"637.79526\"/><text fill=\"black\" font-family=\"Arial Bold\" font-size=\"16\" font-weight=\"bold\" stroke=\"black\" stroke-width=\"0\" x=\"1208.267687\" y=\"53.149605\">19</text><line x1=\"1240.15745\" x2=\"1240.15745\" y1=\"70.86614\" y2=\"637.79526\"/><text fill=\"black\" font-family=\"Arial Bold\" font-size=\"16\" font-weight=\"bold\" stroke=\"black\" stroke-width=\"0\" x=\"1243.700757\" y=\"53.149605\">20</text><line x1=\"1275.59052\" x2=\"1275.59052\" y1=\"70.86614\" y2=\"637.79526\"/><text fill=\"black\" font-family=\"Arial Bold\" font-size=\"16\" font-weight=\"bold\" stroke=\"black\" stroke-width=\"0\" x=\"1279.1338269999999\" y=\"53.149605\">21</text><line x1=\"1311.02359\" x2=\"1311.02359\" y1=\"70.86614\" y2=\"637.79526\"/><text fill=\"black\" font-family=\"Arial Bold\" font-size=\"16\" font-weight=\"bold\" stroke=\"black\" stroke-width=\"0\" x=\"1314.566897\" y=\"53.149605\">22</text><line x1=\"1346.45666\" x2=\"1346.45666\" y1=\"70.86614\" y2=\"637.79526\"/><text fill=\"#800000\" font-family=\"Arial Bold\" font-size=\"18\" font-weight=\"bold\" stroke=\"#800000\" stroke-width=\"0\" x=\"1349.999967\" y=\"35.43307\">June</text><text fill=\"black\" font-family=\"Arial Bold\" font-size=\"16\" font-weight=\"bold\" stroke=\"black\" stroke-width=\"0\" x=\"1349.999967\" y=\"53.149605\">23</text><line x1=\"1381.88973\" x2=\"1381.88973\" y1=\"70.86614\" y2=\"637.79526\"/><text fill=\"black\" font-family=\"Arial Bold\" font-size=\"16\" font-weight=\"bold\" stroke=\"black\" stroke-width=\"0\" x=\"1385.433037\" y=\"53.149605\">24</text><line x1=\"1417.3228\" x2=\"1417.3228\" y1=\"70.86614\" y2=\"637.79526\"/><text fill=\"black\" font-family=\"Arial Bold\" font-size=\"16\" font-weight=\"bold\" stroke=\"black\" stroke-width=\"0\" x=\"1420.866107\" y=\"53.149605\">25</text><line x1=\"1452.75587\" x2=\"1452.75587\" y1=\"70.86614\" y2=\"637.79526\"/></g><g id=\"hlines\" stroke=\"lightgray\"><line x1=\"0.0\" x2=\"1452.75587\" y1=\"70.86614\" y2=\"70.86614\"/><line x1=\"0.0\" x2=\"1452.75587\" y1=\"106.29921\" y2=\"106.29921\"/><line x1=\"0.0\" x2=\"1452.75587\" y1=\"141.73228\" y2=\"141.73228\"/><line x1=\"0.0\" x2=\"1452.75587\" y1=\"177.16535\" y2=\"177.16535\"/><line x1=\"0.0\" x2=\"1452.75587\" y1=\"212.59842\" y2=\"212.59842\"/><line x1=\"0.0\" x2=\"1452.75587\" y1=\"248.03149000000002\" y2=\"248.03149000000002\"/><line x1=\"0.0\" x2=\"1452.75587\" y1=\"283.46456\" y2=\"283.46456\"/><line x1=\"0.0\" x2=\"1452.75587\" y1=\"318.89763\" y2=\"318.89763\"/><line x1=\"0.0\" x2=\"1452.75587\" y1=\"354.3307\" y2=\"354.3307\"/><line x1=\"0.0\" x2=\"1452.75587\" y1=\"389.76377\" y2=\"389.76377\"/><line x1=\"0.0\" x2=\"1452.75587\" y1=\"425.19684\" y2=\"425.19684\"/><line x1=\"0.0\" x2=\"1452.75587\" y1=\"460.62991\" y2=\"460.62991\"/><line x1=\"0.0\" x2=\"1452.75587\" y1=\"496.06298000000004\" y2=\"496.06298000000004\"/><line x1=\"0.0\" x2=\"1452.75587\" y1=\"531.49605\" y2=\"531.49605\"/><line x1=\"0.0\" x2=\"1452.75587\" y1=\"566.92912\" y2=\"566.92912\"/><line x1=\"0.0\" x2=\"1452.75587\" y1=\"602.36219\" y2=\"602.36219\"/><line x1=\"0.0\" x2=\"1452.75587\" y1=\"637.79526\" y2=\"637.79526\"/></g><line stroke=\"black\" x1=\"0.0\" x2=\"1452.75587\" y1=\"70.86614\" y2=\"70.86614\"/><line stroke=\"black\" x1=\"0.0\" x2=\"1452.75587\" y1=\"637.79526\" y2=\"637.79526\"/></g><g><g><text fill=\"black\" font-family=\"Arial Bold\" font-size=\"18\" stroke=\"black\" stroke-width=\"0.001\" x=\"10.629921\" y=\"95.669289\">Matemáticas 1º Bachillerato CCSS</text><rect fill=\"purple\" height=\"545.6692780000001\" opacity=\"0.5\" stroke=\"lightgray\" stroke-width=\"0\" width=\"7.086614000000001\" x=\"2.8346456\" y=\"88.582675\"/><g><g id=\"Presentación\"><rect fill=\"#FF8080\" height=\"28.346456\" opacity=\"0.85\" stroke=\"#FF8080\" stroke-width=\"2\" width=\"28.346456\" x=\"3.543307\" y=\"109.842517\"/><rect fill=\"#909090\" height=\"10.629921\" opacity=\"0.2\" stroke=\"#FF8080\" stroke-width=\"1\" width=\"28.346456\" x=\"3.543307\" y=\"127.559052\"/><text fill=\"black\" font-family=\"Arial Bold\" font-size=\"15\" stroke=\"black\" stroke-width=\"0.001\" x=\"7.086614\" y=\"124.015745\">Presentación</text></g><g><text fill=\"black\" font-family=\"Arial Bold\" font-size=\"18\" stroke=\"black\" stroke-width=\"0.001\" x=\"31.889763\" y=\"166.535429\">ARITMÉTICA Y ÁLGEBRA</text><rect fill=\"purple\" height=\"120.472438\" opacity=\"0.5\" stroke=\"lightgray\" stroke-width=\"0\" width=\"7.086614000000001\" x=\"24.0944876\" y=\"159.448815\"/><g><g id=\"Números_reales\"><rect fill=\"#FF8080\" height=\"28.346456\" opacity=\"0.85\" stroke=\"#FF8080\" stroke-width=\"2\" width=\"170.078736\" x=\"38.976377\" y=\"180.708657\"/><rect fill=\"#909090\" height=\"10.629921\" opacity=\"0.2\" stroke=\"#FF8080\" stroke-width=\"1\" width=\"170.078736\" x=\"38.976377\" y=\"198.425192\"/><text fill=\"black\" font-family=\"Arial Bold\" font-size=\"15\" stroke=\"black\" stroke-width=\"0.001\" x=\"42.519684\" y=\"194.881885\">Números reales</text></g><g id=\"Aritmética_mercantil\"><rect fill=\"#FF8080\" height=\"28.346456\" opacity=\"0.85\" stroke=\"#FF8080\" stroke-width=\"2\" width=\"99.212596\" x=\"180.708657\" y=\"216.141727\"/><rect fill=\"#909090\" height=\"10.629921\" opacity=\"0.2\" stroke=\"#FF8080\" stroke-width=\"1\" width=\"99.212596\" x=\"180.708657\" y=\"233.858262\"/><text fill=\"black\" font-family=\"Arial Bold\" font-size=\"15\" stroke=\"black\" stroke-width=\"0.001\" x=\"184.251964\" y=\"230.314955\">Aritmética mercantil</text></g><g id=\"Álgebra\"><rect fill=\"#FF8080\" height=\"28.346456\" opacity=\"0.85\" stroke=\"#FF8080\" stroke-width=\"2\" width=\"276.377946\" x=\"251.574797\" y=\"251.574797\"/><rect fill=\"#909090\" height=\"10.629921\" opacity=\"0.2\" stroke=\"#FF8080\" stroke-width=\"1\" width=\"276.377946\" x=\"251.574797\" y=\"269.291332\"/><text fill=\"black\" font-family=\"Arial Bold\" font-size=\"15\" stroke=\"black\" stroke-width=\"0.001\" x=\"255.118104\" y=\"265.748025\">Álgebra</text></g></g></g><g><text fill=\"black\" font-family=\"Arial Bold\" font-size=\"18\" stroke=\"black\" stroke-width=\"0.001\" x=\"31.889763\" y=\"308.267709\">ANÁLISIS</text><rect fill=\"purple\" height=\"155.90550800000003\" opacity=\"0.5\" stroke=\"lightgray\" stroke-width=\"0\" width=\"7.086614000000001\" x=\"24.0944876\" y=\"301.181095\"/><g><g id=\"Funciones_elementales\"><rect fill=\"#FF8080\" height=\"28.346456\" opacity=\"0.85\" stroke=\"#FF8080\" stroke-width=\"2\" width=\"205.511806\" x=\"499.606287\" y=\"322.440937\"/><rect fill=\"#909090\" height=\"10.629921\" opacity=\"0.2\" stroke=\"#FF8080\" stroke-width=\"1\" width=\"205.511806\" x=\"499.606287\" y=\"340.157472\"/><text fill=\"black\" font-family=\"Arial Bold\" font-size=\"15\" stroke=\"black\" stroke-width=\"0.001\" x=\"503.149594\" y=\"336.614165\">Funciones elementales</text></g><g id=\"Funciones_exponenciales__logarítmicas_y_trigonométricas\"><rect fill=\"#FF8080\" height=\"28.346456\" opacity=\"0.85\" stroke=\"#FF8080\" stroke-width=\"2\" width=\"99.212596\" x=\"676.7716369999999\" y=\"357.874007\"/><rect fill=\"#909090\" height=\"10.629921\" opacity=\"0.2\" stroke=\"#FF8080\" stroke-width=\"1\" width=\"99.212596\" x=\"676.7716369999999\" y=\"375.59054199999997\"/><text fill=\"black\" font-family=\"Arial Bold\" font-size=\"15\" stroke=\"black\" stroke-width=\"0.001\" x=\"680.314944\" y=\"372.047235\">Funciones exponenciales, logarítmicas y trigonométricas</text></g><g id=\"Límites_de_funciones._Continuidad_y_ramas_infinitas\"><rect fill=\"#FF8080\" height=\"28.346456\" opacity=\"0.85\" stroke=\"#FF8080\" stroke-width=\"2\" width=\"170.078736\" x=\"747.637777\" y=\"393.307077\"/><rect fill=\"#909090\" height=\"10.629921\" opacity=\"0.2\" stroke=\"#FF8080\" stroke-width=\"1\" width=\"170.078736\" x=\"747.637777\" y=\"411.023612\"/><text fill=\"black\" font-family=\"Arial Bold\" font-size=\"15\" stroke=\"black\" stroke-width=\"0.001\" x=\"751.1810839999999\" y=\"407.480305\">Límites de funciones. Continuidad y ramas infinitas</text></g><g id=\"Iniciación_al_cálculo_de_derivadas._Aplicaciones\"><rect fill=\"#FF8080\" height=\"28.346456\" opacity=\"0.85\" stroke=\"#FF8080\" stroke-width=\"2\" width=\"170.078736\" x=\"924.803127\" y=\"428.740147\"/><rect fill=\"#909090\" height=\"10.629921\" opacity=\"0.2\" stroke=\"#FF8080\" stroke-width=\"1\" width=\"170.078736\" x=\"924.803127\" y=\"446.456682\"/><text fill=\"black\" font-family=\"Arial Bold\" font-size=\"15\" stroke=\"black\" stroke-width=\"0.001\" x=\"928.346434\" y=\"442.913375\">Iniciación al cálculo de derivadas. Aplicaciones</text></g></g></g><g><text fill=\"black\" font-family=\"Arial Bold\" font-size=\"18\" stroke=\"black\" stroke-width=\"0.001\" x=\"31.889763\" y=\"485.433059\">ESTADÍSTICA Y PROBABILIDAD</text><rect fill=\"purple\" height=\"155.90550800000003\" opacity=\"0.5\" stroke=\"lightgray\" stroke-width=\"0\" width=\"7.086614000000001\" x=\"24.0944876\" y=\"478.346445\"/><g><g id=\"Estadística_unidimensional\"><rect fill=\"#FF8080\" height=\"28.346456\" opacity=\"0.85\" stroke=\"#FF8080\" stroke-width=\"2\" width=\"134.645666\" x=\"1066.535407\" y=\"499.606287\"/><rect fill=\"#909090\" height=\"10.629921\" opacity=\"0.2\" stroke=\"#FF8080\" stroke-width=\"1\" width=\"134.645666\" x=\"1066.535407\" y=\"517.322822\"/><text fill=\"black\" font-family=\"Arial Bold\" font-size=\"15\" stroke=\"black\" stroke-width=\"0.001\" x=\"1070.078714\" y=\"513.779515\">Estadística unidimensional</text></g><g id=\"Distribuciones_bidimensionales\"><rect fill=\"#FF8080\" height=\"28.346456\" opacity=\"0.85\" stroke=\"#FF8080\" stroke-width=\"2\" width=\"63.779526\" x=\"1172.834617\" y=\"535.039357\"/><rect fill=\"#909090\" height=\"10.629921\" opacity=\"0.2\" stroke=\"#FF8080\" stroke-width=\"1\" width=\"63.779526\" x=\"1172.834617\" y=\"552.755892\"/><text fill=\"black\" font-family=\"Arial Bold\" font-size=\"15\" stroke=\"black\" stroke-width=\"0.001\" x=\"1176.377924\" y=\"549.212585\">Distribuciones bidimensionales</text></g><g id=\"Dist._de_variable_discreta\"><rect fill=\"#FF8080\" height=\"28.346456\" opacity=\"0.85\" stroke=\"#FF8080\" stroke-width=\"2\" width=\"99.212596\" x=\"1243.700757\" y=\"570.472427\"/><rect fill=\"#909090\" height=\"10.629921\" opacity=\"0.2\" stroke=\"#FF8080\" stroke-width=\"1\" width=\"99.212596\" x=\"1243.700757\" y=\"588.188962\"/><text fill=\"black\" font-family=\"Arial Bold\" font-size=\"15\" stroke=\"black\" stroke-width=\"0.001\" x=\"1247.244064\" y=\"584.645655\">Dist. de variable discreta</text></g><g id=\"Dist._de_variable_continua\"><rect fill=\"#FF8080\" height=\"28.346456\" opacity=\"0.85\" stroke=\"#FF8080\" stroke-width=\"2\" width=\"99.212596\" x=\"1314.566897\" y=\"605.905497\"/><rect fill=\"#909090\" height=\"10.629921\" opacity=\"0.2\" stroke=\"#FF8080\" stroke-width=\"1\" width=\"99.212596\" x=\"1314.566897\" y=\"623.622032\"/><text fill=\"black\" font-family=\"Arial Bold\" font-size=\"15\" stroke=\"black\" stroke-width=\"0.001\" x=\"1318.110204\" y=\"620.078725\">Dist. de variable continua</text></g></g></g></g></g><g><g><g><line stroke=\"black\" stroke-dasharray=\"5,3\" x1=\"28.346456\" x2=\"35.43307\" y1=\"124.015745\" y2=\"124.015745\"/><marker id=\"id265\" markerHeight=\"10\" markerWidth=\"10\" refX=\"5\" refY=\"5\"><circle cx=\"5\" cy=\"5\" fill=\"#000000\" opacity=\"0.5\" r=\"5\" stroke-width=\"0\"/></marker><line marker-end=\"url(#id265)\" stroke=\"black\" stroke-dasharray=\"5,3\" x1=\"35.43307\" x2=\"35.43307\" y1=\"124.015745\" y2=\"194.881885\"/></g><g><line stroke=\"black\" stroke-dasharray=\"5,3\" x1=\"205.511806\" x2=\"177.16535\" y1=\"194.881885\" y2=\"194.881885\"/><marker id=\"id266\" markerHeight=\"10\" markerWidth=\"10\" refX=\"5\" refY=\"5\"><circle cx=\"5\" cy=\"5\" fill=\"#000000\" opacity=\"0.5\" r=\"5\" stroke-width=\"0\"/></marker><line marker-end=\"url(#id266)\" stroke=\"black\" stroke-dasharray=\"5,3\" x1=\"177.16535\" x2=\"177.16535\" y1=\"194.881885\" y2=\"230.314955\"/></g><g><line stroke=\"black\" stroke-dasharray=\"5,3\" x1=\"276.377946\" x2=\"248.03149\" y1=\"230.314955\" y2=\"230.314955\"/><marker id=\"id267\" markerHeight=\"10\" markerWidth=\"10\" refX=\"5\" refY=\"5\"><circle cx=\"5\" cy=\"5\" fill=\"#000000\" opacity=\"0.5\" r=\"5\" stroke-width=\"0\"/></marker><line marker-end=\"url(#id267)\" stroke=\"black\" stroke-dasharray=\"5,3\" x1=\"248.03149\" x2=\"248.03149\" y1=\"230.314955\" y2=\"265.748025\"/></g></g><g><g><line stroke=\"black\" stroke-dasharray=\"5,3\" x1=\"524.409436\" x2=\"496.06298\" y1=\"265.748025\" y2=\"265.748025\"/><marker id=\"id268\" markerHeight=\"10\" markerWidth=\"10\" refX=\"5\" refY=\"5\"><circle cx=\"5\" cy=\"5\" fill=\"#000000\" opacity=\"0.5\" r=\"5\" stroke-width=\"0\"/></marker><line marker-end=\"url(#id268)\" stroke=\"black\" stroke-dasharray=\"5,3\" x1=\"496.06298\" x2=\"496.06298\" y1=\"265.748025\" y2=\"336.614165\"/></g><g><line stroke=\"black\" stroke-dasharray=\"5,3\" x1=\"701.574786\" x2=\"673.22833\" y1=\"336.614165\" y2=\"336.614165\"/><marker id=\"id269\" markerHeight=\"10\" markerWidth=\"10\" refX=\"5\" refY=\"5\"><circle cx=\"5\" cy=\"5\" fill=\"#000000\" opacity=\"0.5\" r=\"5\" stroke-width=\"0\"/></marker><line marker-end=\"url(#id269)\" stroke=\"black\" stroke-dasharray=\"5,3\" x1=\"673.22833\" x2=\"673.22833\" y1=\"336.614165\" y2=\"372.047235\"/></g><g><line stroke=\"black\" stroke-dasharray=\"5,3\" x1=\"772.440926\" x2=\"744.09447\" y1=\"372.047235\" y2=\"372.047235\"/><marker id=\"id270\" markerHeight=\"10\" markerWidth=\"10\" refX=\"5\" refY=\"5\"><circle cx=\"5\" cy=\"5\" fill=\"#000000\" opacity=\"0.5\" r=\"5\" stroke-width=\"0\"/></marker><line marker-end=\"url(#id270)\" stroke=\"black\" stroke-dasharray=\"5,3\" x1=\"744.09447\" x2=\"744.09447\" y1=\"372.047235\" y2=\"407.480305\"/></g><g><line stroke=\"black\" stroke-dasharray=\"5,3\" x1=\"914.173206\" x2=\"921.25982\" y1=\"407.480305\" y2=\"407.480305\"/><marker id=\"id271\" markerHeight=\"10\" markerWidth=\"10\" refX=\"5\" refY=\"5\"><circle cx=\"5\" cy=\"5\" fill=\"#000000\" opacity=\"0.5\" r=\"5\" stroke-width=\"0\"/></marker><line marker-end=\"url(#id271)\" stroke=\"black\" stroke-dasharray=\"5,3\" x1=\"921.25982\" x2=\"921.25982\" y1=\"407.480305\" y2=\"442.913375\"/></g></g><g><g><line stroke=\"black\" stroke-dasharray=\"5,3\" x1=\"1091.338556\" x2=\"1062.9921\" y1=\"442.913375\" y2=\"442.913375\"/><marker id=\"id272\" markerHeight=\"10\" markerWidth=\"10\" refX=\"5\" refY=\"5\"><circle cx=\"5\" cy=\"5\" fill=\"#000000\" opacity=\"0.5\" r=\"5\" stroke-width=\"0\"/></marker><line marker-end=\"url(#id272)\" stroke=\"black\" stroke-dasharray=\"5,3\" x1=\"1062.9921\" x2=\"1062.9921\" y1=\"442.913375\" y2=\"513.779515\"/></g><g><line stroke=\"black\" stroke-dasharray=\"5,3\" x1=\"1197.637766\" x2=\"1169.29131\" y1=\"513.779515\" y2=\"513.779515\"/><marker id=\"id273\" markerHeight=\"10\" markerWidth=\"10\" refX=\"5\" refY=\"5\"><circle cx=\"5\" cy=\"5\" fill=\"#000000\" opacity=\"0.5\" r=\"5\" stroke-width=\"0\"/></marker><line marker-end=\"url(#id273)\" stroke=\"black\" stroke-dasharray=\"5,3\" x1=\"1169.29131\" x2=\"1169.29131\" y1=\"513.779515\" y2=\"549.212585\"/></g><g><line stroke=\"black\" stroke-dasharray=\"5,3\" x1=\"1233.070836\" x2=\"1240.15745\" y1=\"549.212585\" y2=\"549.212585\"/><marker id=\"id274\" markerHeight=\"10\" markerWidth=\"10\" refX=\"5\" refY=\"5\"><circle cx=\"5\" cy=\"5\" fill=\"#000000\" opacity=\"0.5\" r=\"5\" stroke-width=\"0\"/></marker><line marker-end=\"url(#id274)\" stroke=\"black\" stroke-dasharray=\"5,3\" x1=\"1240.15745\" x2=\"1240.15745\" y1=\"549.212585\" y2=\"584.645655\"/></g><g><line stroke=\"black\" stroke-dasharray=\"5,3\" x1=\"1339.370046\" x2=\"1311.02359\" y1=\"584.645655\" y2=\"584.645655\"/><marker id=\"id275\" markerHeight=\"10\" markerWidth=\"10\" refX=\"5\" refY=\"5\"><circle cx=\"5\" cy=\"5\" fill=\"#000000\" opacity=\"0.5\" r=\"5\" stroke-width=\"0\"/></marker><line marker-end=\"url(#id275)\" stroke=\"black\" stroke-dasharray=\"5,3\" x1=\"1311.02359\" x2=\"1311.02359\" y1=\"584.645655\" y2=\"620.078725\"/></g></g></g></g></svg>"
          },
          "metadata": {
            "tags": []
          },
          "execution_count": 6
        }
      ]
    },
    {
      "metadata": {
        "id": "AU8xdgsHImMj",
        "colab_type": "code",
        "colab": {},
        "outputId": "0f3960bb-3d07-4767-9ebd-b7442735b23c"
      },
      "cell_type": "code",
      "source": [
        "import pandas as pd\n",
        "prog = pd.read_csv('prog_1bac_cn.csv')\n",
        "#for grupo in list(prog.groupby('Bloque').first().index): print(grupo)\n",
        "\n",
        "#c1 = 'Bloque'    \n",
        "#c2 = 'Unidad'    \n",
        "#c3 = 'Contenido'   \n",
        "c1 = prog.columns[0]\n",
        "c2 = prog.columns[1]\n",
        "c3 = prog.columns[2]\n",
        "\n",
        "\n",
        "for n1 in prog.groupby(c1, sort = False).count().index: \n",
        "    print('\\n\\n','BLOQUE TEMÁTICO:', n1)\n",
        "    for n2 in prog[prog[c1] == n1].groupby(c2, sort = False).count().index: \n",
        "        print('\\n\\n','Unidad:', n2, '\\n')\n",
        "        for n3 in prog[prog[c2] == n2].groupby(c3, sort = False).count().index: \n",
        "            print(n3, end='/ ')\n"
      ],
      "execution_count": 0,
      "outputs": [
        {
          "output_type": "stream",
          "text": [
            "\n",
            "\n",
            " BLOQUE TEMÁTICO: Aritmética y álgebra\n",
            "\n",
            "\n",
            " Unidad: Números reales \n",
            "\n",
            "Diferentes tipos de números reales./ Representación en la recta real. Distancia entre dos números reales: valor absoluto./ Subconjuntos de números reales: intervalos./ Operaciones con números reales: radicales (propiedades), potencias de exponente racional…/ Aproximaciones de números reales. Error./ Utilización de la calculadora y el ordenador como herramientas que facilitan el cálculo y en la elección del mejor método de resolución de los problemas numéricos./ Definición y propiedades del logaritmo./ \n",
            "\n",
            " Unidad: Sucesiones \n",
            "\n",
            "Concepto de sucesión./ Criterio de formación de una sucesión. Sucesiones recurrentes./ Término general y suma de las progresiones aritméticas y geométricas./ Monotonía y acotación./ El número e.. Idea intuitiva del concepto de límite. Cálculo del límite para términos avanzados con ayuda de la calculadora./ \n",
            "\n",
            " Unidad: Inecuaciones y sistemas \n",
            "\n",
            "Resolución de inecuaciones con una incógnita:/ Resolución de inecuaciones con dos incógnitas./ Sistemas de inecuaciones con una y dos incógnitas./ Interpretación gráfica de inecuaciones y sistemas de inecuaciones con una y dos incógnitas./ Planteamiento y resolución (algebraica, gráfica o ambas) de problemas extraídos de contextos cotidianos o científicos mediante inecuaciones y sistemas de inecuaciones./ \n",
            "\n",
            " Unidad: El binomio de Newton. \n",
            "\n",
            "Generalización de las potencias de un binomio./ Factoriales y números combinatorios./ El triángulo aritmético: algunas propiedades./ \n",
            "\n",
            " Unidad: Números complejos \n",
            "\n",
            "El plano complejo. Representación gráfica./ Formas de expresar un complejo: binomial, polar y trigonométrica. Paso de unas a otras./ Operaciones elementales con números complejos en cualquiera de sus formas./ La fórmula de Moivre./ Obtención de las raíces n-ésimas de un número complejo./ Resolución de ecuaciones de segundo grado con soluciones no reales e interpretación de la solución./ \n",
            "\n",
            " BLOQUE TEMÁTICO: Geometría\n",
            "\n",
            "\n",
            " Unidad: Trigonometría \n",
            "\n",
            "Obtención de las razones trigonométricas de un ángulo agudo y del ángulo que corresponde a una razón trigonométrica. Relación entre las razones trigonométricas/ Cálculo de las razones trigonométricas de un ángulo cualquiera: representación mediante la circunferencia unidad y reducción al primer cuadrante./ Obtención de fórmulas trigonométricas que permiten calcular, dada una razón trigonométrica, las demás razones./ Resolución de triángulos rectángulos. Aplicación de la estrategia de la altura para resolver triángulos no rectángulos./ Teorema del seno y del coseno./ Planteamiento y resolución de problemas de medidas indirectas con triángulos rectángulos y no rectángulos extraídos de diferentes contextos./ Una nueva unidad para medir ángulos: el radián. Expresión y transformación de medidas de ángulos en radianes. Relación entre grados y radianes. Transformación de grados a radianes y viceversa./ Fórmulas trigonométricas: razones trigonométricas del ángulo suma, de la diferencia de dos ángulos, del ángulo doble y del ángulo mitad. Sumas y diferencias de senos y cosenos/ Aplicación de las formulas trigonométricas para la resolución de ecuaciones trigonométricas, simplificación de expresiones trigonométricas y comprobación de igualdades trigonométricas./ Identificación de las funciones trigonométricas seno, coseno y tangente./ \n",
            "\n",
            " Unidad: Vectores \n",
            "\n",
            "Definición de vector: módulo, dirección y sentido. Representación./ Operaciones con vectores: suma, resta, producto de un vector por un escalar. Interpretación gráfica de dichas operaciones./ Expresión de un vector como combinación lineal de otros./ Coordenadas de un vector respecto a una base. Tipos de bases. Vectores libres y ligados./ Producto escalar de vectores: definición, propiedades, expresión analítica e interpretación geométrica. Obtención de vectores a partir de ciertas condiciones./ Cálculo del ángulo de dos vectores./ \n",
            "\n",
            " Unidad: Geometría analítica del plano \n",
            "\n",
            "Sistema de referencia en el plano. Coordenadas de un punto./ Aplicaciones de los vectores a problemas geométricos: coordenadas de un vector que une dos puntos, punto medio de un segmento…../ Ecuaciones de la recta en el plano: vector de dirección y pendiente. Diferentes tipos de ecuaciones. Paso de un tipo de ecuación a otro./ Haz de rectas/ Posiciones relativas de rectas: Intersección de dos rectas./ Caracterización de paralelismo y perpendicularidad. Relación entre las pendientes de rectas paralelas o perpendiculares./ Obtención de una recta paralela o perpendicular a otra que pasa por un punto./ Cálculo de la medida del ángulo determinado por dos rectas./ Cálculo de distancias entre dos puntos, un punto y una recta y dos rectas./ \n",
            "\n",
            " Unidad: Lugares geométricos del plano \n",
            "\n",
            "Concepto de lugar geométrico./ Mediatriz de un segmento y bisectriz del ángulo determinado por dos rectas./ La circunferencia: ecuación y propiedades. Estudio de la posición relativa de una recta y circunferencia. Potencia de una circunferencia./ Elipse, hipérbola y parábola: definición como lugar geométrico/ Obtención de la ecuación reducida de una cónica./ Cálculo de los elementos más importantes de una cónica a partir de su ecuación reducida./ Identificación del tipo de cónica a partir de su ecuación reducida./ Resolución de problemas de lugares geométricos, identificando la figura resultante/ Utilización de programas informáticos de geometría dinámica y de la calculadora para representar gráficamente y resolver diferentes tipos de problemas geométricos./ \n",
            "\n",
            " BLOQUE TEMÁTICO: Funciones\n",
            "\n",
            "\n",
            " Unidad: Funciones reales de variable real \n",
            "\n",
            "Clasificación características básicas y gráficas de las funciones elementales: polinómicas, de proporcionalidad inversa, valor absoluto, parte entera, racionales e irracionales sencillas, exponenciales, logarítmicas trigonométricas y definidas a trozos sencillas./ Obtención del dominio, recorrido, monotonía, acotación, extremos, simetría y periodicidad de una función dada por su expresión analítica./ Operaciones con funciones, composición de funciones, función inversa./ \n",
            "\n",
            " Unidad: Límites y continuidad \n",
            "\n",
            "Idea intuitiva del límite de una función. Límites laterales. Límites infinitos y límites en el infinito de funciones. Indeterminaciones/ Estudio de la continuidad o discontinuidad de una función. Tipos de discontinuidades./ Reconocimiento sobre la gráfica de la causa de la discontinuidad de una función en un punto./ Obtención de las asíntotas (horizontales, verticales y oblicuas) de una función./ \n",
            "\n",
            " Unidad: Introducción a la derivada \n",
            "\n",
            "Tasas de variación media e instantánea de una función./ Obtención de la derivada de una función en un punto por la definición./ Interpretación geométrica y física de la derivada. Aplicación de la derivada a la determinación de la pendiente de una recta, rectas tangente y normal a una curva, velocidad, aceleración./ Función derivada. Propiedades elementales. Derivada de la suma, el producto y el cociente de funciones y de la función compuesta. Aplicación de las reglas de derivación para el cálculo de derivadas. Cálculo de derivadas sucesivas./ Obtención de los extremos, monotonía, curvatura y puntos de inflexión de una función./ Resolución de problemas de optimización./ Representación de funciones a partir del análisis de sus características globales./ Interpretación y análisis de funciones sencillas, expresadas de manera analítica o gráfica, que describan situaciones reales./ \n",
            "\n",
            " BLOQUE TEMÁTICO: Estadística y probabilidad\n",
            "\n",
            "\n",
            " Unidad: Estadística descriptiva \n",
            "\n",
            "Estadística descriptiva unidimensional. Población y muestra. Interpretación de tablas y gráficas estadísticas. Tablas de frecuencias./ Parámetros estadísticos de una población: media y desviación típica. El coeficiente de variación de Pearson. Interpretación y cálculo de las medidas de posición: mediana, cuartiles deciles y percentiles./ Distribuciones estadísticas bidimensionales: diagrama de dispersión.Relaciones entre dos variables estadísticas: el coeficiente de correlación lineal, su cálculo e interpretación./ Rectas de regresión. Estimación de valores a partir de ellas y valoración de su fiabilidad./ Manejo de las tablas de doble entrada./ Utilización de la hoja de cálculo y de la calculadora para la realización de cálculos y gráficos estadísticos./ \n",
            "\n",
            " Unidad: Distribuciones de probabilidad \n",
            "\n",
            "Sucesos: operaciones. Propiedades de las operaciones con sucesos. Leyes de Morgan./ Propiedades de la probabilidad de un suceso. Aplicación de la Ley de Laplace para el cálculo de probabilidades sencillas./ Probabilidad compuesta, condicionada, total y a priori./ Teorema de la probabilidad total y teorema de Bayes./ Variables aleatorias discretas: la función de probabilidad; cálculo de parámetros. La distribución binomial. Identificación de variables aleatorias binomiales y asignación de probabilidades usando la función de probabilidad correspondiente. Utilización de la tabla de distribución binomial en la resolución de problemas de cálculo probabilístico./ Función de densidad de una variable aleatoria continua. La distribución normal./ Obtención de un intervalo al que corresponde una determinada probabilidad. Asignación de probabilidades en situaciones que corresponden a una variable N(μ, σ), una vez tipificada. Utilización de la tabla de distribución binomial en la resolución de problemas de cálculo probabilístico./ Aproximación de la distribución binomial a la normal. Cálculo de la probabilidad de una binomial pasándola a normal. Corrección de Yates./ "
          ],
          "name": "stdout"
        }
      ]
    },
    {
      "metadata": {
        "id": "Ql0uIBn0ImM3",
        "colab_type": "code",
        "colab": {}
      },
      "cell_type": "code",
      "source": [
        "gantt.FONT_ATTR?"
      ],
      "execution_count": 0,
      "outputs": []
    },
    {
      "metadata": {
        "id": "2PCzVHCfImNG",
        "colab_type": "code",
        "colab": {}
      },
      "cell_type": "code",
      "source": [
        ""
      ],
      "execution_count": 0,
      "outputs": []
    }
  ]
}