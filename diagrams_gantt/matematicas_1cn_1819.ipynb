{
 "cells": [
  {
   "cell_type": "code",
   "execution_count": null,
   "metadata": {},
   "outputs": [],
   "source": [
    "!pip install https://files.pythonhosted.org/packages/20/03/61d9950a0b83386b668a300370e40a81b5c919afdc9b7c41d20bb9021215/python-gantt-0.6.0.tar.gz"
   ]
  },
  {
   "cell_type": "code",
   "execution_count": null,
   "metadata": {},
   "outputs": [],
   "source": [
    "# https://pypi.org/project/python-gantt/\n",
    "\n",
    "import datetime\n",
    "from datetime import timedelta, date\n",
    "import gantt\n",
    "\n",
    "gantt.define_font_attributes(fill='black', stroke='black', stroke_width=0.001,  font_family=\"Verdana\")\n",
    "\n",
    "#gantt\n",
    "hoy = datetime.date.today()\n",
    "inicio = datetime.date(2017, 9, 12)\n",
    "detalle = False\n",
    "\n",
    "# Puente Inmaculada\n",
    "inicio_vacas = date(2017, 12, 6) + timedelta(days=0)  # start date\n",
    "vacaciones = 3  # end date\n",
    "for i in range(vacaciones):\n",
    "    gantt.add_vacations(inicio_vacas + timedelta(days=i + 1))\n",
    "\n",
    "# Navidad\n",
    "inicio_vacas = date(2017, 12, 23) + timedelta(days=0)  # start date\n",
    "vacaciones = 16  # end date\n",
    "for i in range(vacaciones):\n",
    "    gantt.add_vacations(inicio_vacas + timedelta(days=i + 1))\n",
    "    \n",
    "# Semana Santa\n",
    "inicio_vacas = date(2018, 3, 29) + timedelta(days=0)  # start date\n",
    "vacaciones = 11  # end date\n",
    "for i in range(vacaciones):\n",
    "    gantt.add_vacations(inicio_vacas + timedelta(days=i + 1))\n",
    "\n",
    "p = gantt.Project(name='Matemáticas 4 Académicas', color='#FFFF40')\n",
    "\n",
    "p0 = gantt.Project(name='Presentación', color='#FFFF40')\n",
    "t01 = gantt.Task(name='Presentación',start = inicio, duration=1, color=\"#FF8080\", display=detalle)\n",
    "\n",
    "p0.add_task(t01)\n",
    "\n",
    "# Tema 1\n",
    "p1 = gantt.Project(name='Números Reales', color='#FFFF40')\n",
    "t11 = gantt.Task(name='Representación de números reales',depends_of=t01, duration=5, color=\"#FF8080\", display=detalle)\n",
    "t12 = gantt.Task(name='Números radicales',depends_of=t11, duration=10, color=\"#FF8080\", display=detalle)\n",
    "t13 = gantt.Task(name='Logaritmos',depends_of=t12, duration=10, color=\"#FF8080\", display=detalle)\n",
    "t10 = gantt.Task(name='Numeros reales', start=t11.start_date(), duration = 10 ,color=\"#FF8080\", display= not(detalle))\n",
    "\n",
    "p1.add_task(t11)\n",
    "p1.add_task(t12)\n",
    "p1.add_task(t13)\n",
    "p1.add_task(t10)\n",
    "\n",
    "# Añadir los temas\n",
    "p.add_task(p0)\n",
    "p.add_task(p1)\n",
    "\n",
    "\n",
    "# Crear el svg\n",
    "\n",
    "p.make_svg_for_tasks(filename='prueba.svg', scale=gantt.DRAW_WITH_WEEKLY_SCALE, title_align_on_left=False)\n",
    "#p.make_svg_for_tasks(filename='prueba.svg')\n",
    "\n",
    "\n",
    "from IPython.core.display import SVG\n",
    "SVG(filename='prueba.svg')\n"
   ]
  },
  {
   "cell_type": "code",
   "execution_count": 11,
   "metadata": {},
   "outputs": [],
   "source": [
    "gantt.Task?"
   ]
  }
 ],
 "metadata": {
  "kernelspec": {
   "display_name": "Python 3",
   "language": "python",
   "name": "python3"
  },
  "language_info": {
   "codemirror_mode": {
    "name": "ipython",
    "version": 3
   },
   "file_extension": ".py",
   "mimetype": "text/x-python",
   "name": "python",
   "nbconvert_exporter": "python",
   "pygments_lexer": "ipython3",
   "version": "3.5.4"
  }
 },
 "nbformat": 4,
 "nbformat_minor": 2
}
