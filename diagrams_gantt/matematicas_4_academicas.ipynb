{
 "cells": [
  {
   "cell_type": "code",
   "execution_count": 1,
   "metadata": {},
   "outputs": [
    {
     "name": "stdout",
     "output_type": "stream",
     "text": [
      "Collecting https://files.pythonhosted.org/packages/20/03/61d9950a0b83386b668a300370e40a81b5c919afdc9b7c41d20bb9021215/python-gantt-0.6.0.tar.gz\n",
      "  Using cached https://files.pythonhosted.org/packages/20/03/61d9950a0b83386b668a300370e40a81b5c919afdc9b7c41d20bb9021215/python-gantt-0.6.0.tar.gz\n",
      "Requirement already satisfied (use --upgrade to upgrade): python-gantt==0.6.0 from https://files.pythonhosted.org/packages/20/03/61d9950a0b83386b668a300370e40a81b5c919afdc9b7c41d20bb9021215/python-gantt-0.6.0.tar.gz in /home/nbuser/anaconda3_420/lib/python3.5/site-packages\n",
      "Requirement already satisfied: svgwrite>=1.1.6 in /home/nbuser/anaconda3_420/lib/python3.5/site-packages (from python-gantt==0.6.0) (1.1.12)\n",
      "Requirement already satisfied: clize>=2.0 in /home/nbuser/anaconda3_420/lib/python3.5/site-packages (from python-gantt==0.6.0) (4.0.3)\n",
      "Requirement already satisfied: python-dateutil>=2.4 in /home/nbuser/anaconda3_420/lib/python3.5/site-packages (from python-gantt==0.6.0) (2.5.3)\n",
      "Requirement already satisfied: pyparsing>=2.0.1 in /home/nbuser/anaconda3_420/lib/python3.5/site-packages (from svgwrite>=1.1.6->python-gantt==0.6.0) (2.1.4)\n",
      "Requirement already satisfied: sigtools>=2.0 in /home/nbuser/anaconda3_420/lib/python3.5/site-packages (from clize>=2.0->python-gantt==0.6.0) (2.0.2)\n",
      "Requirement already satisfied: docutils in /home/nbuser/anaconda3_420/lib/python3.5/site-packages (from clize>=2.0->python-gantt==0.6.0) (0.12)\n",
      "Requirement already satisfied: attrs>=17.4.0 in /home/nbuser/anaconda3_420/lib/python3.5/site-packages (from clize>=2.0->python-gantt==0.6.0) (18.1.0)\n",
      "Requirement already satisfied: six in /home/nbuser/anaconda3_420/lib/python3.5/site-packages (from clize>=2.0->python-gantt==0.6.0) (1.10.0)\n",
      "Requirement already satisfied: od in /home/nbuser/anaconda3_420/lib/python3.5/site-packages (from clize>=2.0->python-gantt==0.6.0) (1.0)\n",
      "Building wheels for collected packages: python-gantt\n",
      "  Running setup.py bdist_wheel for python-gantt ... \u001b[?25ldone\n",
      "\u001b[?25h  Stored in directory: /home/nbuser/.cache/pip/wheels/51/aa/02/672bca6debc072c12d8ee12ccd8bfb1cfa2af09ec8151121b9\n",
      "Successfully built python-gantt\n",
      "\u001b[31mazure-datalake-store 0.0.19 has requirement msrest~=0.4.5, but you'll have msrest 0.5.0 which is incompatible.\u001b[0m\n",
      "\u001b[31mazure-cli-interactive 0.3.22 has requirement six~=1.11.0, but you'll have six 1.10.0 which is incompatible.\u001b[0m\n",
      "\u001b[31mpyasn1-modules 0.2.1 has requirement pyasn1<0.5.0,>=0.4.1, but you'll have pyasn1 0.1.9 which is incompatible.\u001b[0m\n",
      "\u001b[31mmsrest 0.5.0 has requirement requests~=2.16, but you'll have requests 2.14.2 which is incompatible.\u001b[0m\n",
      "\u001b[31mazure-cli-core 2.0.37 has requirement pyopenssl>=17.1.0, but you'll have pyopenssl 16.2.0 which is incompatible.\u001b[0m\n"
     ]
    }
   ],
   "source": [
    "!pip install https://files.pythonhosted.org/packages/20/03/61d9950a0b83386b668a300370e40a81b5c919afdc9b7c41d20bb9021215/python-gantt-0.6.0.tar.gz"
   ]
  },
  {
   "cell_type": "code",
   "execution_count": 4,
   "metadata": {},
   "outputs": [
    {
     "data": {
      "image/svg+xml": [
       "<svg baseProfile=\"full\" height=\"212.59842\" version=\"1.1\" width=\"248.03149000000002\" xmlns=\"http://www.w3.org/2000/svg\" xmlns:ev=\"http://www.w3.org/2001/xml-events\" xmlns:xlink=\"http://www.w3.org/1999/xlink\"><defs/><rect fill=\"white\" height=\"212.59842\" opacity=\"1\" stroke-width=\"0\" width=\"248.03149000000002\" x=\"0.0\" y=\"0.0\"/><g><g id=\"vlines\" stroke=\"lightgray\"><line x1=\"0.0\" x2=\"0.0\" y1=\"70.86614\" y2=\"177.16535\"/><text fill=\"black\" font-family=\"Verdana\" font-size=\"16\" font-weight=\"bold\" stroke=\"black\" stroke-width=\"0\" x=\"3.543307\" y=\"53.149605\">37</text><line x1=\"35.43307\" x2=\"35.43307\" y1=\"70.86614\" y2=\"177.16535\"/><text fill=\"black\" font-family=\"Verdana\" font-size=\"16\" font-weight=\"bold\" stroke=\"black\" stroke-width=\"0\" x=\"38.976377\" y=\"53.149605\">38</text><line x1=\"70.86614\" x2=\"70.86614\" y1=\"70.86614\" y2=\"177.16535\"/><text fill=\"black\" font-family=\"Verdana\" font-size=\"16\" font-weight=\"bold\" stroke=\"black\" stroke-width=\"0\" x=\"74.409447\" y=\"53.149605\">39</text><line x1=\"106.29921\" x2=\"106.29921\" y1=\"70.86614\" y2=\"177.16535\"/><text fill=\"#800000\" font-family=\"Verdana\" font-size=\"18\" font-weight=\"bold\" stroke=\"#800000\" stroke-width=\"0\" x=\"109.842517\" y=\"35.43307\">October</text><text fill=\"black\" font-family=\"Verdana\" font-size=\"16\" font-weight=\"bold\" stroke=\"black\" stroke-width=\"0\" x=\"109.842517\" y=\"53.149605\">40</text><line x1=\"141.73228\" x2=\"141.73228\" y1=\"70.86614\" y2=\"177.16535\"/><text fill=\"black\" font-family=\"Verdana\" font-size=\"16\" font-weight=\"bold\" stroke=\"black\" stroke-width=\"0\" x=\"145.275587\" y=\"53.149605\">41</text><line x1=\"177.16535\" x2=\"177.16535\" y1=\"70.86614\" y2=\"177.16535\"/><text fill=\"black\" font-family=\"Verdana\" font-size=\"16\" font-weight=\"bold\" stroke=\"black\" stroke-width=\"0\" x=\"180.708657\" y=\"53.149605\">42</text><line x1=\"212.59842\" x2=\"212.59842\" y1=\"70.86614\" y2=\"177.16535\"/><text fill=\"black\" font-family=\"Verdana\" font-size=\"16\" font-weight=\"bold\" stroke=\"black\" stroke-width=\"0\" x=\"216.141727\" y=\"53.149605\">43</text><line x1=\"248.03149000000002\" x2=\"248.03149000000002\" y1=\"70.86614\" y2=\"177.16535\"/></g><g id=\"hlines\" stroke=\"lightgray\"><line x1=\"0.0\" x2=\"248.03149000000002\" y1=\"70.86614\" y2=\"70.86614\"/><line x1=\"0.0\" x2=\"248.03149000000002\" y1=\"106.29921\" y2=\"106.29921\"/><line x1=\"0.0\" x2=\"248.03149000000002\" y1=\"141.73228\" y2=\"141.73228\"/><line x1=\"0.0\" x2=\"248.03149000000002\" y1=\"177.16535\" y2=\"177.16535\"/></g><line stroke=\"black\" x1=\"0.0\" x2=\"248.03149000000002\" y1=\"70.86614\" y2=\"70.86614\"/><line stroke=\"black\" x1=\"0.0\" x2=\"248.03149000000002\" y1=\"177.16535\" y2=\"177.16535\"/></g><g><g><text fill=\"black\" font-family=\"Verdana\" font-size=\"18\" stroke=\"black\" stroke-width=\"0.001\" x=\"10.629921\" y=\"95.669289\">Matemáticas 4 Académicas</text><rect fill=\"purple\" height=\"85.039368\" opacity=\"0.5\" stroke=\"lightgray\" stroke-width=\"0\" width=\"7.086614000000001\" x=\"2.8346456\" y=\"88.582675\"/><g><g><text fill=\"black\" font-family=\"Verdana\" font-size=\"18\" stroke=\"black\" stroke-width=\"0.001\" x=\"31.889763\" y=\"131.102359\">Números Reales</text><rect fill=\"purple\" height=\"49.606297999999995\" opacity=\"0.5\" stroke=\"lightgray\" stroke-width=\"0\" width=\"7.086614000000001\" x=\"24.0944876\" y=\"124.01574500000001\"/><g><g id=\"Numeros_reales\"><rect fill=\"#FF8080\" height=\"28.346456\" opacity=\"0.85\" stroke=\"#FF8080\" stroke-width=\"2\" width=\"99.212596\" x=\"3.543307\" y=\"145.275587\"/><rect fill=\"#909090\" height=\"10.629921\" opacity=\"0.2\" stroke=\"#FF8080\" stroke-width=\"1\" width=\"99.212596\" x=\"3.543307\" y=\"162.992122\"/><text fill=\"black\" font-family=\"Verdana\" font-size=\"15\" stroke=\"black\" stroke-width=\"0.001\" x=\"7.086614\" y=\"159.448815\">Numeros reales</text></g></g></g></g></g><g><g/><g><g/><g/><g/></g></g></g></svg>"
      ],
      "text/plain": [
       "<IPython.core.display.SVG object>"
      ]
     },
     "execution_count": 4,
     "metadata": {},
     "output_type": "execute_result"
    }
   ],
   "source": [
    "# https://pypi.org/project/python-gantt/\n",
    "\n",
    "import datetime\n",
    "from datetime import timedelta, date\n",
    "import gantt\n",
    "\n",
    "gantt.define_font_attributes(fill='black', stroke='black', stroke_width=0.001,  font_family=\"Verdana\")\n",
    "\n",
    "#gantt\n",
    "hoy = datetime.date.today()\n",
    "inicio = datetime.date(2017, 9, 12)\n",
    "detalle = False\n",
    "\n",
    "# Puente Inmaculada\n",
    "inicio_vacas = date(2017, 12, 6) + timedelta(days=0)  # start date\n",
    "vacaciones = 3  # end date\n",
    "for i in range(vacaciones):\n",
    "    gantt.add_vacations(inicio_vacas + timedelta(days=i + 1))\n",
    "\n",
    "# Navidad\n",
    "inicio_vacas = date(2017, 12, 23) + timedelta(days=0)  # start date\n",
    "vacaciones = 16  # end date\n",
    "for i in range(vacaciones):\n",
    "    gantt.add_vacations(inicio_vacas + timedelta(days=i + 1))\n",
    "    \n",
    "# Semana Santa\n",
    "inicio_vacas = date(2018, 3, 29) + timedelta(days=0)  # start date\n",
    "vacaciones = 11  # end date\n",
    "for i in range(vacaciones):\n",
    "    gantt.add_vacations(inicio_vacas + timedelta(days=i + 1))\n",
    "\n",
    "p = gantt.Project(name='Matemáticas 4 Académicas', color='#FFFF40')\n",
    "\n",
    "p0 = gantt.Project(name='Presentación', color='#FFFF40')\n",
    "t01 = gantt.Task(name='Presentación',start = inicio, duration=1, color=\"#FF8080\", display=detalle)\n",
    "\n",
    "p0.add_task(t01)\n",
    "\n",
    "# Tema 1\n",
    "p1 = gantt.Project(name='Números Reales', color='#FFFF40')\n",
    "t11 = gantt.Task(name='Representación de números reales',depends_of=t01, duration=5, color=\"#FF8080\", display=detalle)\n",
    "t12 = gantt.Task(name='Números radicales',depends_of=t11, duration=10, color=\"#FF8080\", display=detalle)\n",
    "t13 = gantt.Task(name='Logaritmos',depends_of=t12, duration=10, color=\"#FF8080\", display=detalle)\n",
    "t10 = gantt.Task(name='Numeros reales', start=t11.start_date(), duration = 10 ,color=\"#FF8080\", display= not(detalle))\n",
    "\n",
    "p1.add_task(t11)\n",
    "p1.add_task(t12)\n",
    "p1.add_task(t13)\n",
    "p1.add_task(t10)\n",
    "\n",
    "# Añadir los temas\n",
    "p.add_task(p0)\n",
    "p.add_task(p1)\n",
    "\n",
    "\n",
    "# Crear el svg\n",
    "\n",
    "p.make_svg_for_tasks(filename='prueba.svg', scale=gantt.DRAW_WITH_WEEKLY_SCALE, title_align_on_left=False)\n",
    "#p.make_svg_for_tasks(filename='prueba.svg')\n",
    "\n",
    "\n",
    "from IPython.core.display import SVG\n",
    "SVG(filename='prueba.svg')\n"
   ]
  },
  {
   "cell_type": "code",
   "execution_count": 11,
   "metadata": {
    "collapsed": true
   },
   "outputs": [],
   "source": [
    "gantt.Task?"
   ]
  }
 ],
 "metadata": {
  "kernelspec": {
   "display_name": "Python 3",
   "language": "python",
   "name": "python3"
  },
  "language_info": {
   "codemirror_mode": {
    "name": "ipython",
    "version": 3
   },
   "file_extension": ".py",
   "mimetype": "text/x-python",
   "name": "python",
   "nbconvert_exporter": "python",
   "pygments_lexer": "ipython3",
   "version": "3.6.3"
  }
 },
 "nbformat": 4,
 "nbformat_minor": 2
}
