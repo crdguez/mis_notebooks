{
 "cells": [
  {
   "cell_type": "markdown",
   "metadata": {},
   "source": [
    "## Librerias para poder instalar luego python-gantt"
   ]
  },
  {
   "cell_type": "code",
   "execution_count": 1,
   "metadata": {},
   "outputs": [
    {
     "name": "stdout",
     "output_type": "stream",
     "text": [
      "Collecting https://labix.org/download/python-dateutil/python-dateutil-2.0.tar.gz\n",
      "\u001b[?25l  Downloading https://labix.org/download/python-dateutil/python-dateutil-2.0.tar.gz (255kB)\n",
      "\u001b[K    100% |████████████████████████████████| 256kB 1.8MB/s ta 0:00:011\n",
      "\u001b[?25hBuilding wheels for collected packages: python-dateutil\n",
      "  Running setup.py bdist_wheel for python-dateutil ... \u001b[?25ldone\n",
      "\u001b[?25h  Stored in directory: /home/nbuser/.cache/pip/wheels/a6/c4/ed/440f98b8601578deb4854983a053b010de2f49a9fdd887aea3\n",
      "Successfully built python-dateutil\n",
      "\u001b[31mfastlmm 0.2.32 requires dill, which is not installed.\u001b[0m\n",
      "\u001b[31mgrin 1.2.1 requires argparse>=1.1, which is not installed.\u001b[0m\n",
      "\u001b[31mbokeh 0.12.13 has requirement python-dateutil>=2.1, but you'll have python-dateutil 2.0 which is incompatible.\u001b[0m\n",
      "\u001b[31mbotocore 1.8.50 has requirement python-dateutil<3.0.0,>=2.1, but you'll have python-dateutil 2.0 which is incompatible.\u001b[0m\n",
      "\u001b[31madal 0.5.1 has requirement python-dateutil>=2.1.0, but you'll have python-dateutil 2.0 which is incompatible.\u001b[0m\n",
      "\u001b[31mgrpcio 1.11.0 has requirement protobuf>=3.5.0.post1, but you'll have protobuf 3.4.1 which is incompatible.\u001b[0m\n",
      "\u001b[31mjupyter-client 5.1.0 has requirement python-dateutil>=2.1, but you'll have python-dateutil 2.0 which is incompatible.\u001b[0m\n",
      "Installing collected packages: python-dateutil\n",
      "  Found existing installation: python-dateutil 2.6.1\n",
      "    Uninstalling python-dateutil-2.6.1:\n",
      "      Successfully uninstalled python-dateutil-2.6.1\n",
      "Successfully installed python-dateutil-2.0\n"
     ]
    }
   ],
   "source": [
    "!pip  install https://labix.org/download/python-dateutil/python-dateutil-2.0.tar.gz"
   ]
  },
  {
   "cell_type": "code",
   "execution_count": 2,
   "metadata": {},
   "outputs": [
    {
     "name": "stdout",
     "output_type": "stream",
     "text": [
      "Collecting https://bitbucket.org/mozman/svgwrite/downloads/svgwrite-1.1.9.tar.gz\n",
      "\u001b[?25l  Downloading https://bitbucket.org/mozman/svgwrite/downloads/svgwrite-1.1.9.tar.gz (111kB)\n",
      "\u001b[K    100% |████████████████████████████████| 112kB 692kB/s ta 0:00:01\n",
      "\u001b[?25hRequirement already satisfied: pyparsing>=2.0.1 in /home/nbuser/anaconda2_501/lib/python2.7/site-packages (from svgwrite==1.1.9) (2.2.0)\n",
      "Building wheels for collected packages: svgwrite\n",
      "  Running setup.py bdist_wheel for svgwrite ... \u001b[?25ldone\n",
      "\u001b[?25h  Stored in directory: /home/nbuser/.cache/pip/wheels/b1/23/47/b7ade79a08d37422ae0de0999599d27b099140a2889871bfae\n",
      "Successfully built svgwrite\n",
      "\u001b[31mfastlmm 0.2.32 requires dill, which is not installed.\u001b[0m\n",
      "\u001b[31mgrin 1.2.1 requires argparse>=1.1, which is not installed.\u001b[0m\n",
      "\u001b[31mbokeh 0.12.13 has requirement python-dateutil>=2.1, but you'll have python-dateutil 2.0 which is incompatible.\u001b[0m\n",
      "\u001b[31mbotocore 1.8.50 has requirement python-dateutil<3.0.0,>=2.1, but you'll have python-dateutil 2.0 which is incompatible.\u001b[0m\n",
      "\u001b[31madal 0.5.1 has requirement python-dateutil>=2.1.0, but you'll have python-dateutil 2.0 which is incompatible.\u001b[0m\n",
      "\u001b[31mgrpcio 1.11.0 has requirement protobuf>=3.5.0.post1, but you'll have protobuf 3.4.1 which is incompatible.\u001b[0m\n",
      "\u001b[31mjupyter-client 5.1.0 has requirement python-dateutil>=2.1, but you'll have python-dateutil 2.0 which is incompatible.\u001b[0m\n",
      "Installing collected packages: svgwrite\n",
      "Successfully installed svgwrite-1.1.9\n"
     ]
    }
   ],
   "source": [
    "!pip install https://bitbucket.org/mozman/svgwrite/downloads/svgwrite-1.1.9.tar.gz"
   ]
  },
  {
   "cell_type": "code",
   "execution_count": 11,
   "metadata": {},
   "outputs": [],
   "source": [
    "\n"
   ]
  }
 ],
 "metadata": {
  "kernelspec": {
   "display_name": "Python 2",
   "language": "python",
   "name": "python2"
  },
  "language_info": {
   "codemirror_mode": {
    "name": "ipython",
    "version": 2
   },
   "file_extension": ".py",
   "mimetype": "text/x-python",
   "name": "python",
   "nbconvert_exporter": "python",
   "pygments_lexer": "ipython2",
   "version": "2.7.14"
  }
 },
 "nbformat": 4,
 "nbformat_minor": 2
}
