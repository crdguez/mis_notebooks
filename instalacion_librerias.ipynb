{
 "cells": [
  {
   "cell_type": "code",
   "execution_count": 1,
   "metadata": {},
   "outputs": [
    {
     "name": "stdout",
     "output_type": "stream",
     "text": [
      "Collecting https://labix.org/download/python-dateutil/python-dateutil-2.0.tar.gz\n",
      "\u001b[?25l  Downloading https://labix.org/download/python-dateutil/python-dateutil-2.0.tar.gz (255kB)\n",
      "\u001b[K    100% |████████████████████████████████| 256kB 1.8MB/s ta 0:00:011\n",
      "\u001b[?25hBuilding wheels for collected packages: python-dateutil\n",
      "  Running setup.py bdist_wheel for python-dateutil ... \u001b[?25ldone\n",
      "\u001b[?25h  Stored in directory: /home/nbuser/.cache/pip/wheels/a6/c4/ed/440f98b8601578deb4854983a053b010de2f49a9fdd887aea3\n",
      "Successfully built python-dateutil\n",
      "\u001b[31mfastlmm 0.2.32 requires dill, which is not installed.\u001b[0m\n",
      "\u001b[31mgrin 1.2.1 requires argparse>=1.1, which is not installed.\u001b[0m\n",
      "\u001b[31mbokeh 0.12.13 has requirement python-dateutil>=2.1, but you'll have python-dateutil 2.0 which is incompatible.\u001b[0m\n",
      "\u001b[31mbotocore 1.8.50 has requirement python-dateutil<3.0.0,>=2.1, but you'll have python-dateutil 2.0 which is incompatible.\u001b[0m\n",
      "\u001b[31madal 0.5.1 has requirement python-dateutil>=2.1.0, but you'll have python-dateutil 2.0 which is incompatible.\u001b[0m\n",
      "\u001b[31mgrpcio 1.11.0 has requirement protobuf>=3.5.0.post1, but you'll have protobuf 3.4.1 which is incompatible.\u001b[0m\n",
      "\u001b[31mjupyter-client 5.1.0 has requirement python-dateutil>=2.1, but you'll have python-dateutil 2.0 which is incompatible.\u001b[0m\n",
      "Installing collected packages: python-dateutil\n",
      "  Found existing installation: python-dateutil 2.6.1\n",
      "    Uninstalling python-dateutil-2.6.1:\n",
      "      Successfully uninstalled python-dateutil-2.6.1\n",
      "Successfully installed python-dateutil-2.0\n"
     ]
    }
   ],
   "source": [
    "!pip  install https://labix.org/download/python-dateutil/python-dateutil-2.0.tar.gz"
   ]
  },
  {
   "cell_type": "code",
   "execution_count": 2,
   "metadata": {},
   "outputs": [
    {
     "name": "stdout",
     "output_type": "stream",
     "text": [
      "Collecting https://bitbucket.org/mozman/svgwrite/downloads/svgwrite-1.1.9.tar.gz\n",
      "\u001b[?25l  Downloading https://bitbucket.org/mozman/svgwrite/downloads/svgwrite-1.1.9.tar.gz (111kB)\n",
      "\u001b[K    100% |████████████████████████████████| 112kB 692kB/s ta 0:00:01\n",
      "\u001b[?25hRequirement already satisfied: pyparsing>=2.0.1 in /home/nbuser/anaconda2_501/lib/python2.7/site-packages (from svgwrite==1.1.9) (2.2.0)\n",
      "Building wheels for collected packages: svgwrite\n",
      "  Running setup.py bdist_wheel for svgwrite ... \u001b[?25ldone\n",
      "\u001b[?25h  Stored in directory: /home/nbuser/.cache/pip/wheels/b1/23/47/b7ade79a08d37422ae0de0999599d27b099140a2889871bfae\n",
      "Successfully built svgwrite\n",
      "\u001b[31mfastlmm 0.2.32 requires dill, which is not installed.\u001b[0m\n",
      "\u001b[31mgrin 1.2.1 requires argparse>=1.1, which is not installed.\u001b[0m\n",
      "\u001b[31mbokeh 0.12.13 has requirement python-dateutil>=2.1, but you'll have python-dateutil 2.0 which is incompatible.\u001b[0m\n",
      "\u001b[31mbotocore 1.8.50 has requirement python-dateutil<3.0.0,>=2.1, but you'll have python-dateutil 2.0 which is incompatible.\u001b[0m\n",
      "\u001b[31madal 0.5.1 has requirement python-dateutil>=2.1.0, but you'll have python-dateutil 2.0 which is incompatible.\u001b[0m\n",
      "\u001b[31mgrpcio 1.11.0 has requirement protobuf>=3.5.0.post1, but you'll have protobuf 3.4.1 which is incompatible.\u001b[0m\n",
      "\u001b[31mjupyter-client 5.1.0 has requirement python-dateutil>=2.1, but you'll have python-dateutil 2.0 which is incompatible.\u001b[0m\n",
      "Installing collected packages: svgwrite\n",
      "Successfully installed svgwrite-1.1.9\n"
     ]
    }
   ],
   "source": [
    "!pip install https://bitbucket.org/mozman/svgwrite/downloads/svgwrite-1.1.9.tar.gz"
   ]
  },
  {
   "cell_type": "code",
   "execution_count": 3,
   "metadata": {},
   "outputs": [
    {
     "name": "stdout",
     "output_type": "stream",
     "text": [
      "Collecting https://files.pythonhosted.org/packages/20/03/61d9950a0b83386b668a300370e40a81b5c919afdc9b7c41d20bb9021215/python-gantt-0.6.0.tar.gz\n",
      "\u001b[?25l  Downloading https://files.pythonhosted.org/packages/20/03/61d9950a0b83386b668a300370e40a81b5c919afdc9b7c41d20bb9021215/python-gantt-0.6.0.tar.gz (53kB)\n",
      "\u001b[K    100% |████████████████████████████████| 61kB 3.1MB/s ta 0:00:011\n",
      "\u001b[?25hRequirement already satisfied: svgwrite>=1.1.6 in /home/nbuser/anaconda2_501/lib/python2.7/site-packages (from python-gantt==0.6.0) (1.1.9)\n",
      "Collecting clize>=2.0 (from python-gantt==0.6.0)\n",
      "\u001b[?25l  Downloading https://files.pythonhosted.org/packages/97/41/b6fe58879be64823e34d3503d9fbb7ef7c83fb98192f5857e251036cae1f/clize-4.0.3-py2.py3-none-any.whl (69kB)\n",
      "\u001b[K    100% |████████████████████████████████| 71kB 7.8MB/s ta 0:00:011\n",
      "\u001b[?25hCollecting python-dateutil>=2.4 (from python-gantt==0.6.0)\n",
      "\u001b[?25l  Downloading https://files.pythonhosted.org/packages/cf/f5/af2b09c957ace60dcfac112b669c45c8c97e32f94aa8b56da4c6d1682825/python_dateutil-2.7.3-py2.py3-none-any.whl (211kB)\n",
      "\u001b[K    100% |████████████████████████████████| 215kB 9.7MB/s eta 0:00:01\n",
      "\u001b[?25hRequirement already satisfied: pyparsing>=2.0.1 in /home/nbuser/anaconda2_501/lib/python2.7/site-packages (from svgwrite>=1.1.6->python-gantt==0.6.0) (2.2.0)\n",
      "Requirement already satisfied: docutils in /home/nbuser/anaconda2_501/lib/python2.7/site-packages (from clize>=2.0->python-gantt==0.6.0) (0.14)\n",
      "Requirement already satisfied: six in /home/nbuser/anaconda2_501/lib/python2.7/site-packages (from clize>=2.0->python-gantt==0.6.0) (1.11.0)\n",
      "Collecting od (from clize>=2.0->python-gantt==0.6.0)\n",
      "  Downloading https://files.pythonhosted.org/packages/5f/d0/c91a75e71e2e780fc1d478420497ebfb0d3f450370ff6254f0f369db5e50/od-1.0.tar.gz\n",
      "Collecting sigtools>=2.0 (from clize>=2.0->python-gantt==0.6.0)\n",
      "\u001b[?25l  Downloading https://files.pythonhosted.org/packages/4b/2f/c878f835de68e5da1eb605b403108fe86458f0f90425224bf3cefdf217e0/sigtools-2.0.1-py2.py3-none-any.whl (69kB)\n",
      "\u001b[K    100% |████████████████████████████████| 71kB 12.0MB/s ta 0:00:01\n",
      "\u001b[?25hRequirement already satisfied: attrs>=17.4.0 in /home/nbuser/anaconda2_501/lib/python2.7/site-packages (from clize>=2.0->python-gantt==0.6.0) (18.1.0)\n",
      "Requirement already satisfied: funcsigs>=0.4; python_version in \"2.6  2.7  3.2\" in /home/nbuser/anaconda2_501/lib/python2.7/site-packages (from sigtools>=2.0->clize>=2.0->python-gantt==0.6.0) (1.0.2)\n",
      "Building wheels for collected packages: python-gantt, od\n",
      "  Running setup.py bdist_wheel for python-gantt ... \u001b[?25ldone\n",
      "\u001b[?25h  Stored in directory: /home/nbuser/.cache/pip/wheels/51/aa/02/672bca6debc072c12d8ee12ccd8bfb1cfa2af09ec8151121b9\n",
      "  Running setup.py bdist_wheel for od ... \u001b[?25ldone\n",
      "\u001b[?25h  Stored in directory: /home/nbuser/.cache/pip/wheels/c5/ab/dc/05f935b37e12c2551b0fcf586328d7c663f362d892990a5ebf\n",
      "Successfully built python-gantt od\n",
      "\u001b[31mfastlmm 0.2.32 requires dill, which is not installed.\u001b[0m\n",
      "\u001b[31mgrin 1.2.1 requires argparse>=1.1, which is not installed.\u001b[0m\n",
      "\u001b[31mgrpcio 1.11.0 has requirement protobuf>=3.5.0.post1, but you'll have protobuf 3.4.1 which is incompatible.\u001b[0m\n",
      "Installing collected packages: od, sigtools, clize, python-dateutil, python-gantt\n",
      "  Found existing installation: python-dateutil 2.0\n",
      "    Uninstalling python-dateutil-2.0:\n",
      "      Successfully uninstalled python-dateutil-2.0\n",
      "Successfully installed clize-4.0.3 od-1.0 python-dateutil-2.7.3 python-gantt-0.6.0 sigtools-2.0.1\n"
     ]
    }
   ],
   "source": [
    "!pip install https://files.pythonhosted.org/packages/20/03/61d9950a0b83386b668a300370e40a81b5c919afdc9b7c41d20bb9021215/python-gantt-0.6.0.tar.gz"
   ]
  },
  {
   "cell_type": "code",
   "execution_count": 11,
   "metadata": {},
   "outputs": [],
   "source": [
    "import gantt\n"
   ]
  }
 ],
 "metadata": {
  "kernelspec": {
   "display_name": "Python 2",
   "language": "python",
   "name": "python2"
  },
  "language_info": {
   "codemirror_mode": {
    "name": "ipython",
    "version": 2
   },
   "file_extension": ".py",
   "mimetype": "text/x-python",
   "name": "python",
   "nbconvert_exporter": "python",
   "pygments_lexer": "ipython2",
   "version": "2.7.14"
  }
 },
 "nbformat": 4,
 "nbformat_minor": 2
}
